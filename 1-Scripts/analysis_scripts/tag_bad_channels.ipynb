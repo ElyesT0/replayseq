{
 "cells": [
  {
   "cell_type": "code",
   "execution_count": 4,
   "id": "e8856391-5035-4f59-99c1-5320674b0397",
   "metadata": {},
   "outputs": [
    {
     "name": "stdout",
     "output_type": "stream",
     "text": [
      "The autoreload extension is already loaded. To reload it, use:\n",
      "  %reload_ext autoreload\n"
     ]
    }
   ],
   "source": [
    "from modules import *\n",
    "import pandas as pd\n",
    "%load_ext autoreload\n",
    "%autoreload 2\n",
    "%matplotlib qt"
   ]
  },
  {
   "cell_type": "code",
   "execution_count": 46,
   "id": "1ea416ff-9a6f-4ecf-b93a-6c0b97ef00af",
   "metadata": {},
   "outputs": [],
   "source": [
    "sub=11"
   ]
  },
  {
   "cell_type": "code",
   "execution_count": 89,
   "id": "abd76322-d703-4a54-8119-b0b80ebf64a4",
   "metadata": {},
   "outputs": [
    {
     "name": "stderr",
     "output_type": "stream",
     "text": [
      "/Users/et/Documents/UNICOG/2-Experiments/replayseq/1-Scripts/analysis_scripts/modules/bids_functions.py:130: RuntimeWarning: This file contains raw Internal Active Shielding data. It may be distorted. Elekta recommends it be run through MaxFilter to produce reliable results. Consider closing the file and running MaxFilter on the data.\n",
      "  raw=mne.io.read_raw_fif(path_raw_file, allow_maxshield=True, preload=True,verbose=verbose)\n"
     ]
    },
    {
     "name": "stdout",
     "output_type": "stream",
     "text": [
      "Filtering raw data in 1 contiguous segment\n",
      "Setting up band-stop filter\n",
      "\n",
      "FIR filter parameters\n",
      "---------------------\n",
      "Designing a one-pass, zero-phase, non-causal bandstop filter:\n",
      "- Windowed time-domain design (firwin) method\n",
      "- Hamming window with 0.0194 passband ripple and 53 dB stopband attenuation\n",
      "- Lower transition bandwidth: 0.50 Hz\n",
      "- Upper transition bandwidth: 0.50 Hz\n",
      "- Filter length: 6601 samples (6.601 s)\n",
      "\n"
     ]
    },
    {
     "name": "stderr",
     "output_type": "stream",
     "text": [
      "[Parallel(n_jobs=1)]: Done  17 tasks      | elapsed:    0.1s\n",
      "[Parallel(n_jobs=1)]: Done  71 tasks      | elapsed:    0.4s\n",
      "[Parallel(n_jobs=1)]: Done 161 tasks      | elapsed:    0.9s\n",
      "[Parallel(n_jobs=1)]: Done 287 tasks      | elapsed:    1.5s\n"
     ]
    },
    {
     "name": "stdout",
     "output_type": "stream",
     "text": [
      "Effective window size : 2.048 (s)\n",
      "Plotting power spectral density (dB=True).\n"
     ]
    },
    {
     "name": "stderr",
     "output_type": "stream",
     "text": [
      "/Users/et/Documents/UNICOG/2-Experiments/replayseq/1-Scripts/analysis_scripts/modules/bids_functions.py:139: FutureWarning: The value of `amplitude='auto'` will be removed in MNE 1.8.0, and the new default will be `amplitude=False`.\n",
      "  raw_filter.compute_psd().plot()\n",
      "/Users/et/Documents/UNICOG/2-Experiments/replayseq/1-Scripts/analysis_scripts/modules/bids_functions.py:139: RuntimeWarning: Channel locations not available. Disabling spatial colors.\n",
      "  raw_filter.compute_psd().plot()\n"
     ]
    }
   ],
   "source": [
    "run=18\n",
    "\n",
    "root_path=\"/Volumes/T5_EVO/1-experiments/REPLAYSEQ/2-Data/raw\"\n",
    "path_sub=os.path.join(root_path,f'sub-{sub:02}')\n",
    "path_run=os.path.join(path_sub,f'run{run:02}_raw.fif')\n",
    "\n",
    "#bads=[2513, 1843, 631, 2231, 2111, 811, 2511, 1021, 142]\n",
    "#bads=[142,1311,2541,2043,133]\n",
    "bads=[1843,2513,613,1021,142]\n",
    "\n",
    "\n",
    "\n",
    "usual_bads=[f'MEG{str(i).zfill(4)}' for i in bads]\n",
    "inspect_raw(sub,run,root_path,verbose=False,bad_channels_test=usual_bads)"
   ]
  },
  {
   "cell_type": "code",
   "execution_count": null,
   "id": "b5ffd3a7-88b7-4ebf-82f7-fa8719a8a0f9",
   "metadata": {},
   "outputs": [],
   "source": []
  },
  {
   "cell_type": "code",
   "execution_count": null,
   "id": "d4915781-d635-42ad-b07d-34b43be72750",
   "metadata": {},
   "outputs": [],
   "source": []
  },
  {
   "cell_type": "code",
   "execution_count": 5,
   "id": "d1fd6328-3d14-428e-90aa-c35ef72694ec",
   "metadata": {},
   "outputs": [
    {
     "name": "stdout",
     "output_type": "stream",
     "text": [
      "Heure de fin prédite : 11:59\n"
     ]
    }
   ],
   "source": [
    "from datetime import datetime, timedelta\n",
    "\n",
    "def calculer_heure_fin(blocs, heure_depart, nombre_blocs):\n",
    "    # Convertir l'heure de départ en objet datetime\n",
    "    heure_depart_obj = datetime.strptime(heure_depart, '%H:%M')\n",
    "    \n",
    "    # Calculer la durée moyenne des blocs\n",
    "    duree_moyenne_bloc = sum(blocs) / len(blocs)\n",
    "    \n",
    "    # Calculer la durée totale des 18 blocs\n",
    "    temps_total_blocs = duree_moyenne_bloc * nombre_blocs\n",
    "    \n",
    "    # Ajouter le temps de repos (2 minutes entre chaque bloc, donc 17 intervalles de repos pour 18 blocs)\n",
    "    temps_repos = 1.5 * (nombre_blocs - 1)\n",
    "    \n",
    "    # Calculer la durée totale de l'expérience (blocs + temps de repos)\n",
    "    temps_total = temps_total_blocs + temps_repos\n",
    "    \n",
    "    # Ajouter la durée totale à l'heure de départ\n",
    "    heure_fin = heure_depart_obj + timedelta(minutes=temps_total)\n",
    "    \n",
    "    # Retourner l'heure de fin au format HH:MM\n",
    "    return heure_fin.strftime('%H:%M')\n",
    "\n",
    "# Exemple d'utilisation\n",
    "blocs = [6,5,7,6,6,6,5]  # Durées en minutes pour les 3 blocs\n",
    "heure_depart = '09:49'  # Heure de départ\n",
    "nombre_blocs = 18  # Nombre total de blocs\n",
    "\n",
    "heure_fin = calculer_heure_fin(blocs, heure_depart, nombre_blocs)\n",
    "print(\"Heure de fin prédite :\", heure_fin)\n"
   ]
  },
  {
   "cell_type": "code",
   "execution_count": null,
   "id": "385aed22-cf2c-4893-a091-c1067c81fddb",
   "metadata": {},
   "outputs": [],
   "source": []
  },
  {
   "cell_type": "code",
   "execution_count": null,
   "id": "4d0a1bc0-95d7-44d9-8ca9-b37d79786d08",
   "metadata": {},
   "outputs": [],
   "source": []
  }
 ],
 "metadata": {
  "kernelspec": {
   "display_name": "mne_python",
   "language": "python",
   "name": "mne_python"
  },
  "language_info": {
   "codemirror_mode": {
    "name": "ipython",
    "version": 3
   },
   "file_extension": ".py",
   "mimetype": "text/x-python",
   "name": "python",
   "nbconvert_exporter": "python",
   "pygments_lexer": "ipython3",
   "version": "3.9.19"
  }
 },
 "nbformat": 4,
 "nbformat_minor": 5
}
