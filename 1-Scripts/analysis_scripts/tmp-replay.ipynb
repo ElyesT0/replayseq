{
 "cells": [
  {
   "cell_type": "code",
   "execution_count": 1,
   "id": "3dd64c8e-4cb8-4145-8f77-7bfbea74c4da",
   "metadata": {},
   "outputs": [],
   "source": [
    "import mne \n",
    "import pandas as pd\n",
    "import numpy as np\n",
    "import os\n",
    "import matplotlib"
   ]
  },
  {
   "cell_type": "code",
   "execution_count": 23,
   "id": "99c1c2cc-9e77-4796-97a4-27d23e81a8c4",
   "metadata": {},
   "outputs": [
    {
     "name": "stdout",
     "output_type": "stream",
     "text": [
      "Writing /Volumes/T5_EVO/1-experiments/REPLAYSEQ/2-Data/BIDS/sub-09/meg/sub-09_task-reproduction_run-04_meg_updated.fif\n"
     ]
    },
    {
     "name": "stderr",
     "output_type": "stream",
     "text": [
      "/var/folders/14/1wp2gs4s4k9094qkx6kvfvq00000gn/T/ipykernel_1017/629565230.py:1: RuntimeWarning: This filename (/Volumes/T5_EVO/1-experiments/REPLAYSEQ/2-Data/BIDS/sub-09/meg/sub-09_task-reproduction_run-04_meg_updated.fif) does not conform to MNE naming conventions. All raw files should end with raw.fif, raw_sss.fif, raw_tsss.fif, _meg.fif, _eeg.fif, _ieeg.fif, raw.fif.gz, raw_sss.fif.gz, raw_tsss.fif.gz, _meg.fif.gz, _eeg.fif.gz or _ieeg.fif.gz\n",
      "  run_04.save(\"/Volumes/T5_EVO/1-experiments/REPLAYSEQ/2-Data/BIDS/sub-09/meg/sub-09_task-reproduction_run-04_meg_updated.fif\", overwrite=True)\n"
     ]
    },
    {
     "name": "stdout",
     "output_type": "stream",
     "text": [
      "Closing /Volumes/T5_EVO/1-experiments/REPLAYSEQ/2-Data/BIDS/sub-09/meg/sub-09_task-reproduction_run-04_meg_updated.fif\n",
      "[done]\n"
     ]
    }
   ],
   "source": [
    "run_04.save(\"/Volumes/T5_EVO/1-experiments/REPLAYSEQ/2-Data/BIDS/sub-09/meg/sub-09_task-reproduction_run-04_meg_updated.fif\", overwrite=True)\n"
   ]
  },
  {
   "cell_type": "code",
   "execution_count": 25,
   "id": "5a0e8fea-ad05-45cd-8c3a-b9c1a640c657",
   "metadata": {},
   "outputs": [
    {
     "name": "stdout",
     "output_type": "stream",
     "text": [
      "Opening raw data file /Volumes/T5_EVO/1-experiments/REPLAYSEQ/2-Data/BIDS/sub-09/meg/sub-09_task-reproduction_run-04_meg.fif...\n",
      "    Read a total of 13 projection items:\n",
      "        generated with dossp-2.1 (1 x 306)  idle\n",
      "        generated with dossp-2.1 (1 x 306)  idle\n",
      "        generated with dossp-2.1 (1 x 306)  idle\n",
      "        generated with dossp-2.1 (1 x 306)  idle\n",
      "        generated with dossp-2.1 (1 x 306)  idle\n",
      "        generated with dossp-2.1 (1 x 306)  idle\n",
      "        generated with dossp-2.1 (1 x 306)  idle\n",
      "        generated with dossp-2.1 (1 x 306)  idle\n",
      "        generated with dossp-2.1 (1 x 306)  idle\n",
      "        generated with dossp-2.1 (1 x 306)  idle\n",
      "        generated with dossp-2.1 (1 x 306)  idle\n",
      "        generated with dossp-2.1 (1 x 306)  idle\n",
      "        generated with dossp-2.1 (1 x 306)  idle\n",
      "    Range : 16000 ... 402999 =     16.000 ...   402.999 secs\n",
      "Ready.\n"
     ]
    },
    {
     "name": "stderr",
     "output_type": "stream",
     "text": [
      "/var/folders/14/1wp2gs4s4k9094qkx6kvfvq00000gn/T/ipykernel_1017/1003639823.py:1: RuntimeWarning: This file contains raw Internal Active Shielding data. It may be distorted. Elekta recommends it be run through MaxFilter to produce reliable results. Consider closing the file and running MaxFilter on the data.\n",
      "  run_04=mne.io.read_raw_fif('/Volumes/T5_EVO/1-experiments/REPLAYSEQ/2-Data/BIDS/sub-09/meg/sub-09_task-reproduction_run-04_meg.fif',allow_maxshield=True)\n"
     ]
    }
   ],
   "source": [
    "run_04=mne.io.read_raw_fif('/Volumes/T5_EVO/1-experiments/REPLAYSEQ/2-Data/BIDS/sub-09/meg/sub-09_task-reproduction_run-04_meg.fif',allow_maxshield=True)"
   ]
  },
  {
   "cell_type": "code",
   "execution_count": 29,
   "id": "66398ff6-1195-4b5b-a67d-060364de606c",
   "metadata": {},
   "outputs": [
    {
     "name": "stdout",
     "output_type": "stream",
     "text": [
      "<Transform | MEG device->head>\n",
      "[[ 0.98263299 -0.17270018 -0.06788003  0.00073212]\n",
      " [ 0.18380286  0.95610273  0.2282207   0.01309432]\n",
      " [ 0.02548652 -0.23673365  0.97124064  0.06388994]\n",
      " [ 0.          0.          0.          1.        ]]\n"
     ]
    }
   ],
   "source": [
    "print(run_04.info['dev_head_t'])"
   ]
  },
  {
   "cell_type": "code",
   "execution_count": 19,
   "id": "e63122b9-4562-4dde-84da-412ca79d2907",
   "metadata": {},
   "outputs": [
    {
     "name": "stdout",
     "output_type": "stream",
     "text": [
      "Updated dev_head_t for run-04: <Transform | MEG device->head>\n",
      "[[ 0.98263299 -0.17270018 -0.06788003  0.00073212]\n",
      " [ 0.18380286  0.95610273  0.2282207   0.01309432]\n",
      " [ 0.02548652 -0.23673365  0.97124064  0.06388994]\n",
      " [ 0.          0.          0.          1.        ]]\n"
     ]
    }
   ],
   "source": [
    "# Copy dev_head_t from run-03 to run-04\n",
    "run_04.info['dev_head_t'] = run_05.info['dev_head_t']\n",
    "\n",
    "# Verify the new dev_head_t in run-04\n",
    "print(\"Updated dev_head_t for run-04:\", run_04.info['dev_head_t'])\n"
   ]
  },
  {
   "cell_type": "code",
   "execution_count": 15,
   "id": "dfd2d69e-f650-442b-8c93-44140cbce18e",
   "metadata": {},
   "outputs": [
    {
     "name": "stdout",
     "output_type": "stream",
     "text": [
      "Opening raw data file /Volumes/T5_EVO/1-experiments/REPLAYSEQ/2-Data/BIDS/sub-09/meg/sub-09_task-reproduction_run-04_meg.fif...\n",
      "    Read a total of 13 projection items:\n",
      "        generated with dossp-2.1 (1 x 306)  idle\n",
      "        generated with dossp-2.1 (1 x 306)  idle\n",
      "        generated with dossp-2.1 (1 x 306)  idle\n",
      "        generated with dossp-2.1 (1 x 306)  idle\n",
      "        generated with dossp-2.1 (1 x 306)  idle\n",
      "        generated with dossp-2.1 (1 x 306)  idle\n",
      "        generated with dossp-2.1 (1 x 306)  idle\n",
      "        generated with dossp-2.1 (1 x 306)  idle\n",
      "        generated with dossp-2.1 (1 x 306)  idle\n",
      "        generated with dossp-2.1 (1 x 306)  idle\n",
      "        generated with dossp-2.1 (1 x 306)  idle\n",
      "        generated with dossp-2.1 (1 x 306)  idle\n",
      "        generated with dossp-2.1 (1 x 306)  idle\n",
      "    Range : 16000 ... 402999 =     16.000 ...   402.999 secs\n",
      "Ready.\n",
      "Opening raw data file /Volumes/T5_EVO/1-experiments/REPLAYSEQ/2-Data/BIDS/sub-09/meg/sub-09_task-reproduction_run-05_meg.fif...\n"
     ]
    },
    {
     "name": "stderr",
     "output_type": "stream",
     "text": [
      "/var/folders/14/1wp2gs4s4k9094qkx6kvfvq00000gn/T/ipykernel_1017/1555375341.py:1: RuntimeWarning: This file contains raw Internal Active Shielding data. It may be distorted. Elekta recommends it be run through MaxFilter to produce reliable results. Consider closing the file and running MaxFilter on the data.\n",
      "  run_04=mne.io.read_raw_fif('/Volumes/T5_EVO/1-experiments/REPLAYSEQ/2-Data/BIDS/sub-09/meg/sub-09_task-reproduction_run-04_meg.fif',allow_maxshield=True)\n"
     ]
    },
    {
     "name": "stdout",
     "output_type": "stream",
     "text": [
      "    Read a total of 13 projection items:\n",
      "        generated with dossp-2.1 (1 x 306)  idle\n",
      "        generated with dossp-2.1 (1 x 306)  idle\n",
      "        generated with dossp-2.1 (1 x 306)  idle\n",
      "        generated with dossp-2.1 (1 x 306)  idle\n",
      "        generated with dossp-2.1 (1 x 306)  idle\n",
      "        generated with dossp-2.1 (1 x 306)  idle\n",
      "        generated with dossp-2.1 (1 x 306)  idle\n",
      "        generated with dossp-2.1 (1 x 306)  idle\n",
      "        generated with dossp-2.1 (1 x 306)  idle\n",
      "        generated with dossp-2.1 (1 x 306)  idle\n",
      "        generated with dossp-2.1 (1 x 306)  idle\n",
      "        generated with dossp-2.1 (1 x 306)  idle\n",
      "        generated with dossp-2.1 (1 x 306)  idle\n",
      "    Range : 20000 ... 423999 =     20.000 ...   423.999 secs\n",
      "Ready.\n",
      "Reading 0 ... 403999  =      0.000 ...   403.999 secs...\n"
     ]
    },
    {
     "name": "stderr",
     "output_type": "stream",
     "text": [
      "/var/folders/14/1wp2gs4s4k9094qkx6kvfvq00000gn/T/ipykernel_1017/1555375341.py:2: RuntimeWarning: This file contains raw Internal Active Shielding data. It may be distorted. Elekta recommends it be run through MaxFilter to produce reliable results. Consider closing the file and running MaxFilter on the data.\n",
      "  run_05=mne.io.read_raw_fif('/Volumes/T5_EVO/1-experiments/REPLAYSEQ/2-Data/BIDS/sub-09/meg/sub-09_task-reproduction_run-05_meg.fif',allow_maxshield=True,preload=True)\n"
     ]
    }
   ],
   "source": [
    "run_04=mne.io.read_raw_fif('/Volumes/T5_EVO/1-experiments/REPLAYSEQ/2-Data/BIDS/sub-09/meg/sub-09_task-reproduction_run-04_meg.fif',allow_maxshield=True)\n",
    "run_05=mne.io.read_raw_fif('/Volumes/T5_EVO/1-experiments/REPLAYSEQ/2-Data/BIDS/sub-09/meg/sub-09_task-reproduction_run-05_meg.fif',allow_maxshield=True,preload=True)\n"
   ]
  },
  {
   "cell_type": "code",
   "execution_count": 9,
   "id": "af74fe74-d06e-4015-b0bd-2cc2cc5648b2",
   "metadata": {},
   "outputs": [
    {
     "name": "stdout",
     "output_type": "stream",
     "text": [
      "Determinant of rotation matrix: 0.9998807112923436\n"
     ]
    }
   ],
   "source": [
    "rotation_matrix=run_04.info['dev_head_t']['trans']\n",
    "det = np.linalg.det(rotation_matrix)\n",
    "print(f\"Determinant of rotation matrix: {det}\")"
   ]
  },
  {
   "cell_type": "code",
   "execution_count": 11,
   "id": "1f58e3ce-bd69-4d50-88dc-9a24f1b92da0",
   "metadata": {},
   "outputs": [
    {
     "name": "stdout",
     "output_type": "stream",
     "text": [
      "Condition number of rotation matrix: 4318.091786148612\n"
     ]
    }
   ],
   "source": [
    "cond = np.linalg.cond(rotation_matrix)\n",
    "print(f\"Condition number of rotation matrix: {cond}\")"
   ]
  },
  {
   "cell_type": "code",
   "execution_count": null,
   "id": "25faac7f-b6ad-4962-9339-cd5589cb373d",
   "metadata": {},
   "outputs": [],
   "source": [
    "def extract_epoch_null_category(subject):\n",
    "    \"\"\"\n",
    "    This function loads MEG fixation epochs for a given subject, crops them into three 500 ms epochs, \n",
    "    and returns the concatenated spatial epochs that could not be anticipated.\n",
    "\n",
    "    Parameters:\n",
    "    subject (str): The subject identifier (used to construct file path)\n",
    "\n",
    "    Returns:\n",
    "    mne.EpochsArray: A new EpochsArray containing three cropped epochs (each 500 ms long) concatenated vertically.\n",
    "    \"\"\"\n",
    "    \n",
    "    # Define the path to the preprocessed MEG epochs file based on the subject ID\n",
    "    path = config.derivatives_path + 'fixation/sub-'+subject+'/meg/sub-'+subject+'_task-reproduction_epo.fif'\n",
    "    \n",
    "    # Load the MEG epochs from the file with preload enabled (data loaded into memory)\n",
    "    epochs = mne.read_epochs(path, preload=True)\n",
    "    \n",
    "    # Concatenate the data from three cropped time intervals:\n",
    "    # 1. From -1 to -0.5 seconds\n",
    "    # 2. From -0.5 to 0 seconds\n",
    "    # 3. From 0 to 0.5 seconds\n",
    "    data = np.vstack([\n",
    "        epochs.copy().crop(tmin=-1, tmax=-0.5).get_data(),  # First 500 ms epoch\n",
    "        epochs.copy().crop(tmin=-0.5, tmax=0).get_data(),   # Second 500 ms epoch\n",
    "        epochs.copy().crop(tmin=0, tmax=0.5).get_data()     # Third 500 ms epoch\n",
    "    ])\n",
    "    \n",
    "    # Create a new EpochsArray object using the concatenated data and the original epochs' info\n",
    "    epochs = mne.EpochsArray(data=data, info=epochs.copy().crop(tmin=0, tmax=0.5).info)\n",
    "\n",
    "    # Return the new EpochsArray\n",
    "    return epochs\n"
   ]
  },
  {
   "cell_type": "code",
   "execution_count": null,
   "id": "05180281-1d3b-4279-9799-6a0411dcf985",
   "metadata": {},
   "outputs": [],
   "source": [
    "# -- Functions\n",
    "def extract_epoch_null_category(subject):\n",
    "    path = f'/Volumes/T5_EVO/1-experiments/REPLAYSEQ/2-Data/derivatives/items/sub-{subject:02}/meg/sub-{subject:02}_task-reproduction_epo.fif'\n",
    "    epochs= mne.read_epochs(path, preload=True)\n",
    "    \n",
    "    # -- Concatenate the data from three cropped time intervals:\n",
    "    # 1. From -1 to -0.5 seconds\n",
    "    # 2. From -0.5 to 0 seconds\n",
    "    # 3. From 0 to 0.5 seconds\n",
    "    data=np.vstack([\n",
    "        epochs.copy().crop(tmin=-1,tmax=-0.5).get_data(),\n",
    "        epochs.copy().crop(tmin=-0.5,tmax=0).get_data(),\n",
    "        epochs.copy().crop(tmin=0, tmax=0.5).get_data()\n",
    "    ])\n",
    "\n",
    "    #\n",
    "def extract_epochs_first_presentation\n",
    "\n",
    "def create_training_epochs_7categories(subject):\n",
    "    epochs_null=extract_epoch_null_category(subject)\n",
    "    epochs_null.events[:,2]=99\n",
    "\n",
    "    epochs_items=extract"
   ]
  },
  {
   "cell_type": "code",
   "execution_count": 17,
   "id": "42f388c4-0dd2-44b5-8153-19f6e4a6e699",
   "metadata": {},
   "outputs": [],
   "source": [
    "sub=8\n",
    "base_path='/Volumes/T5_EVO/1-experiments/REPLAYSEQ/2-Data/derivatives/items/sub-08/meg'\n",
    "items_epo_path=os.path.join(base_path,f'sub-08_task-reproduction_epo.fif')\n",
    "fixation_epo_path='/Volumes/T5_EVO/1-experiments/REPLAYSEQ/2-Data/derivatives/fixation/sub-08/meg/sub-08_task-reproduction_epo.fif'"
   ]
  },
  {
   "cell_type": "code",
   "execution_count": 19,
   "id": "8ed78f4d-2647-49d5-ad5c-cabd76d204a3",
   "metadata": {},
   "outputs": [
    {
     "name": "stdout",
     "output_type": "stream",
     "text": [
      "Reading /Volumes/T5_EVO/1-experiments/REPLAYSEQ/2-Data/derivatives/items/sub-08/meg/sub-08_task-reproduction_epo.fif ...\n",
      "    Found the data of interest:\n",
      "        t =    -192.00 ...     592.00 ms\n",
      "        0 CTF compensation matrices available\n",
      "Adding metadata with 58 columns\n",
      "3240 matching events found\n",
      "No baseline correction applied\n",
      "0 projection items activated\n"
     ]
    }
   ],
   "source": [
    "items_epo=mne.read_epochs(items_epo_path,preload=True)"
   ]
  },
  {
   "cell_type": "code",
   "execution_count": 43,
   "id": "3d3a2463-a9a6-47a5-8362-49ae05bc876e",
   "metadata": {},
   "outputs": [
    {
     "data": {
      "text/plain": [
       "array([ 1,  2,  3,  4,  5,  6,  7,  8,  9, 10, 11, 12, 13, 14, 15, 16, 17,\n",
       "       18, 19, 20, 21, 22, 23, 24, 25, 26, 27, 28, 29, 30, 31, 32, 33, 34,\n",
       "       35, 36, 37, 38, 39, 40, 41, 42, 43, 44, 45, 46, 47, 48, 49, 50, 51,\n",
       "       52, 53, 54], dtype=int32)"
      ]
     },
     "execution_count": 43,
     "metadata": {},
     "output_type": "execute_result"
    }
   ],
   "source": [
    "np.unique(items_epo.events[:,2])"
   ]
  },
  {
   "cell_type": "code",
   "execution_count": 15,
   "id": "53ce2f5f-1722-495b-a523-62bf686a4386",
   "metadata": {},
   "outputs": [],
   "source": [
    "# Get behavioral file: this is ground truth\n",
    "\n",
    "# Load item based epochs (position 1,2,3,4,5,6)\n",
    "\n",
    "# Load fixation based epochs (position 7 == nothing)\n",
    "\n"
   ]
  }
 ],
 "metadata": {
  "kernelspec": {
   "display_name": "mne_python",
   "language": "python",
   "name": "mne_python"
  },
  "language_info": {
   "codemirror_mode": {
    "name": "ipython",
    "version": 3
   },
   "file_extension": ".py",
   "mimetype": "text/x-python",
   "name": "python",
   "nbconvert_exporter": "python",
   "pygments_lexer": "ipython3",
   "version": "3.9.19"
  }
 },
 "nbformat": 4,
 "nbformat_minor": 5
}
