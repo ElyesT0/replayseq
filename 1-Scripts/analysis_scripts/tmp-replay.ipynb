{
 "cells": [
  {
   "cell_type": "code",
   "execution_count": 41,
   "id": "3dd64c8e-4cb8-4145-8f77-7bfbea74c4da",
   "metadata": {},
   "outputs": [],
   "source": [
    "import mne \n",
    "import pandas as pd\n",
    "import numpy as np\n",
    "import os\n",
    "import matplotlib"
   ]
  },
  {
   "cell_type": "code",
   "execution_count": 29,
   "id": "25fc7659-58f0-446a-b678-cef59af4e8c1",
   "metadata": {},
   "outputs": [
    {
     "name": "stdout",
     "output_type": "stream",
     "text": [
      "Warning: Cannot change to a different GUI toolkit: notebook. Using qt instead.\n"
     ]
    }
   ],
   "source": [
    "%matplotlib notebook"
   ]
  },
  {
   "cell_type": "code",
   "execution_count": null,
   "id": "25faac7f-b6ad-4962-9339-cd5589cb373d",
   "metadata": {},
   "outputs": [],
   "source": [
    "def extract_epoch_null_category(subject):\n",
    "    \"\"\"\n",
    "    This function loads MEG fixation epochs for a given subject, crops them into three 500 ms epochs, \n",
    "    and returns the concatenated spatial epochs that could not be anticipated.\n",
    "\n",
    "    Parameters:\n",
    "    subject (str): The subject identifier (used to construct file path)\n",
    "\n",
    "    Returns:\n",
    "    mne.EpochsArray: A new EpochsArray containing three cropped epochs (each 500 ms long) concatenated vertically.\n",
    "    \"\"\"\n",
    "    \n",
    "    # Define the path to the preprocessed MEG epochs file based on the subject ID\n",
    "    path = config.derivatives_path + 'fixation/sub-'+subject+'/meg/sub-'+subject+'_task-reproduction_epo.fif'\n",
    "    \n",
    "    # Load the MEG epochs from the file with preload enabled (data loaded into memory)\n",
    "    epochs = mne.read_epochs(path, preload=True)\n",
    "    \n",
    "    # Concatenate the data from three cropped time intervals:\n",
    "    # 1. From -1 to -0.5 seconds\n",
    "    # 2. From -0.5 to 0 seconds\n",
    "    # 3. From 0 to 0.5 seconds\n",
    "    data = np.vstack([\n",
    "        epochs.copy().crop(tmin=-1, tmax=-0.5).get_data(),  # First 500 ms epoch\n",
    "        epochs.copy().crop(tmin=-0.5, tmax=0).get_data(),   # Second 500 ms epoch\n",
    "        epochs.copy().crop(tmin=0, tmax=0.5).get_data()     # Third 500 ms epoch\n",
    "    ])\n",
    "    \n",
    "    # Create a new EpochsArray object using the concatenated data and the original epochs' info\n",
    "    epochs = mne.EpochsArray(data=data, info=epochs.copy().crop(tmin=0, tmax=0.5).info)\n",
    "\n",
    "    # Return the new EpochsArray\n",
    "    return epochs\n"
   ]
  },
  {
   "cell_type": "code",
   "execution_count": null,
   "id": "05180281-1d3b-4279-9799-6a0411dcf985",
   "metadata": {},
   "outputs": [],
   "source": [
    "# -- Functions\n",
    "def extract_epoch_null_category(subject):\n",
    "    path = f'/Volumes/T5_EVO/1-experiments/REPLAYSEQ/2-Data/derivatives/items/sub-{subject:02}/meg/sub-{subject:02}_task-reproduction_epo.fif'\n",
    "    epochs= mne.read_epochs(path, preload=True)\n",
    "    \n",
    "    # -- Concatenate the data from three cropped time intervals:\n",
    "    # 1. From -1 to -0.5 seconds\n",
    "    # 2. From -0.5 to 0 seconds\n",
    "    # 3. From 0 to 0.5 seconds\n",
    "    data=np.vstack([\n",
    "        epochs.copy().crop(tmin=-1,tmax=-0.5).get_data(),\n",
    "        epochs.copy().crop(tmin=-0.5,tmax=0).get_data(),\n",
    "        epochs.copy().crop(tmin=0, tmax=0.5).get_data()\n",
    "    ])\n",
    "\n",
    "    #\n",
    "def extract_epochs_first_presentation\n",
    "\n",
    "def create_training_epochs_7categories(subject):\n",
    "    epochs_null=extract_epoch_null_category(subject)\n",
    "    epochs_null.events[:,2]=99\n",
    "\n",
    "    epochs_items=extract"
   ]
  },
  {
   "cell_type": "code",
   "execution_count": 17,
   "id": "42f388c4-0dd2-44b5-8153-19f6e4a6e699",
   "metadata": {},
   "outputs": [],
   "source": [
    "sub=8\n",
    "base_path='/Volumes/T5_EVO/1-experiments/REPLAYSEQ/2-Data/derivatives/items/sub-08/meg'\n",
    "items_epo_path=os.path.join(base_path,f'sub-08_task-reproduction_epo.fif')\n",
    "fixation_epo_path='/Volumes/T5_EVO/1-experiments/REPLAYSEQ/2-Data/derivatives/fixation/sub-08/meg/sub-08_task-reproduction_epo.fif'"
   ]
  },
  {
   "cell_type": "code",
   "execution_count": 19,
   "id": "8ed78f4d-2647-49d5-ad5c-cabd76d204a3",
   "metadata": {},
   "outputs": [
    {
     "name": "stdout",
     "output_type": "stream",
     "text": [
      "Reading /Volumes/T5_EVO/1-experiments/REPLAYSEQ/2-Data/derivatives/items/sub-08/meg/sub-08_task-reproduction_epo.fif ...\n",
      "    Found the data of interest:\n",
      "        t =    -192.00 ...     592.00 ms\n",
      "        0 CTF compensation matrices available\n",
      "Adding metadata with 58 columns\n",
      "3240 matching events found\n",
      "No baseline correction applied\n",
      "0 projection items activated\n"
     ]
    }
   ],
   "source": [
    "items_epo=mne.read_epochs(items_epo_path,preload=True)"
   ]
  },
  {
   "cell_type": "code",
   "execution_count": 43,
   "id": "3d3a2463-a9a6-47a5-8362-49ae05bc876e",
   "metadata": {},
   "outputs": [
    {
     "data": {
      "text/plain": [
       "array([ 1,  2,  3,  4,  5,  6,  7,  8,  9, 10, 11, 12, 13, 14, 15, 16, 17,\n",
       "       18, 19, 20, 21, 22, 23, 24, 25, 26, 27, 28, 29, 30, 31, 32, 33, 34,\n",
       "       35, 36, 37, 38, 39, 40, 41, 42, 43, 44, 45, 46, 47, 48, 49, 50, 51,\n",
       "       52, 53, 54], dtype=int32)"
      ]
     },
     "execution_count": 43,
     "metadata": {},
     "output_type": "execute_result"
    }
   ],
   "source": [
    "np.unique(items_epo.events[:,2])"
   ]
  },
  {
   "cell_type": "code",
   "execution_count": 15,
   "id": "53ce2f5f-1722-495b-a523-62bf686a4386",
   "metadata": {},
   "outputs": [],
   "source": [
    "# Get behavioral file: this is ground truth\n",
    "\n",
    "# Load item based epochs (position 1,2,3,4,5,6)\n",
    "\n",
    "# Load fixation based epochs (position 7 == nothing)\n",
    "\n"
   ]
  }
 ],
 "metadata": {
  "kernelspec": {
   "display_name": "mne_python",
   "language": "python",
   "name": "mne_python"
  },
  "language_info": {
   "codemirror_mode": {
    "name": "ipython",
    "version": 3
   },
   "file_extension": ".py",
   "mimetype": "text/x-python",
   "name": "python",
   "nbconvert_exporter": "python",
   "pygments_lexer": "ipython3",
   "version": "3.9.19"
  }
 },
 "nbformat": 4,
 "nbformat_minor": 5
}
