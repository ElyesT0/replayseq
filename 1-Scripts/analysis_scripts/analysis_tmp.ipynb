{
 "cells": [
  {
   "cell_type": "code",
   "execution_count": 1,
   "id": "d90eb16a-3681-43f6-af53-a47893f76650",
   "metadata": {},
   "outputs": [],
   "source": [
    "from modules import *\n",
    "import pandas as pd\n",
    "%load_ext autoreload\n",
    "%autoreload 2\n",
    "%matplotlib qt"
   ]
  },
  {
   "cell_type": "code",
   "execution_count": null,
   "id": "06cfa1fd-4fb4-40be-8f60-dc3c018e5529",
   "metadata": {},
   "outputs": [],
   "source": []
  },
  {
   "cell_type": "code",
   "execution_count": null,
   "id": "af7aa5d7-b208-4384-ac93-2abb1bb870af",
   "metadata": {},
   "outputs": [],
   "source": []
  },
  {
   "cell_type": "code",
   "execution_count": null,
   "id": "6eb5da44-558f-42a1-b30c-bc8e3c113097",
   "metadata": {},
   "outputs": [],
   "source": []
  },
  {
   "cell_type": "code",
   "execution_count": 3,
   "id": "0b0e3927-9f12-4e9b-aef9-b230fbea8a1a",
   "metadata": {},
   "outputs": [],
   "source": [
    "# Directories\n",
    "dir_root=\"/Volumes/T5_EVO/1-experiments/REPLAYSEQ/2-Data/derivatives\"\n",
    "dir_epo_items=os.path.join(dir_root,\"items\")\n",
    "dir_epo_sequence=os.path.join(dir_root,\"sequence\")\n",
    "dir_epo_fixation=os.path.join(dir_root,\"fixation\")"
   ]
  },
  {
   "cell_type": "code",
   "execution_count": 7,
   "id": "b5dbf3da-2636-4fc4-ad96-16703f0acee0",
   "metadata": {},
   "outputs": [
    {
     "name": "stdout",
     "output_type": "stream",
     "text": [
      "Reading /Volumes/T5_EVO/1-experiments/REPLAYSEQ/2-Data/derivatives/items/sub-01/meg/sub-01_task-reproduction_epo.fif ...\n",
      "    Found the data of interest:\n",
      "        t =    -192.00 ...     592.00 ms\n",
      "        0 CTF compensation matrices available\n",
      "Adding metadata with 58 columns\n",
      "3510 matching events found\n",
      "No baseline correction applied\n",
      "0 projection items activated\n"
     ]
    }
   ],
   "source": [
    "# Load Epochs\n",
    "sub_nb=1\n",
    "epo_items=mne.read_epochs(os.path.join(dir_epo_items,f'sub-{sub_nb:02}/meg/sub-{sub_nb:02}_task-reproduction_epo.fif'),preload=True)"
   ]
  },
  {
   "cell_type": "code",
   "execution_count": 10,
   "id": "4436fbd2-99fc-4902-84fa-13b7a6e9d466",
   "metadata": {},
   "outputs": [
    {
     "name": "stdout",
     "output_type": "stream",
     "text": [
      "Fitting ICA to data using 306 channels (please be patient, this may take a while)\n"
     ]
    },
    {
     "name": "stderr",
     "output_type": "stream",
     "text": [
      "/var/folders/14/1wp2gs4s4k9094qkx6kvfvq00000gn/T/ipykernel_5303/3183686684.py:3: RuntimeWarning: The data has not been high-pass filtered. For good ICA performance, it should be high-pass filtered (e.g., with a 1.0 Hz lower bound) before fitting ICA.\n",
      "  ica = ICA(n_components=30, method=\"fastica\", max_iter=\"auto\").fit(epo_items)\n"
     ]
    },
    {
     "name": "stdout",
     "output_type": "stream",
     "text": [
      "Selecting by number: 30 components\n",
      "Fitting ICA took 9.2s.\n"
     ]
    }
   ],
   "source": [
    "from mne.preprocessing import ICA, corrmap, create_ecg_epochs, create_eog_epochs\n",
    "# Fit the ICA\n",
    "ica = ICA(n_components=30, method=\"fastica\", max_iter=\"auto\").fit(epo_items)"
   ]
  },
  {
   "cell_type": "code",
   "execution_count": 17,
   "id": "37e59919-799b-4db6-824c-89f8a10a50e3",
   "metadata": {},
   "outputs": [
    {
     "data": {
      "text/plain": [
       "[<MNEFigure size 1950x1844 with 20 Axes>,\n",
       " <MNEFigure size 1950x992 with 10 Axes>]"
      ]
     },
     "execution_count": 17,
     "metadata": {},
     "output_type": "execute_result"
    }
   ],
   "source": [
    "ica.plot_components() sKx3n3NmSkfH@Sed7d@@"
   ]
  }
 ],
 "metadata": {
  "kernelspec": {
   "display_name": "mne_python",
   "language": "python",
   "name": "mne_python"
  },
  "language_info": {
   "codemirror_mode": {
    "name": "ipython",
    "version": 3
   },
   "file_extension": ".py",
   "mimetype": "text/x-python",
   "name": "python",
   "nbconvert_exporter": "python",
   "pygments_lexer": "ipython3",
   "version": "3.9.19"
  }
 },
 "nbformat": 4,
 "nbformat_minor": 5
}
