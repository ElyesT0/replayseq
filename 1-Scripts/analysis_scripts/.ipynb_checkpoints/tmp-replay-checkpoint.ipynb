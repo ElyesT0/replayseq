{
 "cells": [
  {
   "cell_type": "code",
   "execution_count": 25,
   "id": "3dd64c8e-4cb8-4145-8f77-7bfbea74c4da",
   "metadata": {},
   "outputs": [],
   "source": [
    "import mne \n",
    "import pandas\n",
    "import os\n",
    "import matplotlib"
   ]
  },
  {
   "cell_type": "code",
   "execution_count": 29,
   "id": "25fc7659-58f0-446a-b678-cef59af4e8c1",
   "metadata": {},
   "outputs": [
    {
     "name": "stdout",
     "output_type": "stream",
     "text": [
      "Warning: Cannot change to a different GUI toolkit: notebook. Using qt instead.\n"
     ]
    }
   ],
   "source": [
    "%matplotlib notebook"
   ]
  },
  {
   "cell_type": "code",
   "execution_count": null,
   "id": "25faac7f-b6ad-4962-9339-cd5589cb373d",
   "metadata": {},
   "outputs": [],
   "source": [
    "def extract_epoch_null_category(subject):\n",
    "    \"\"\"\n",
    "    This function loads MEG fixation epochs for a given subject, crops them into three 500 ms epochs, \n",
    "    and returns the concatenated spatial epochs that could not be anticipated.\n",
    "\n",
    "    Parameters:\n",
    "    subject (str): The subject identifier (used to construct file path)\n",
    "\n",
    "    Returns:\n",
    "    mne.EpochsArray: A new EpochsArray containing three cropped epochs (each 500 ms long) concatenated vertically.\n",
    "    \"\"\"\n",
    "    \n",
    "    # Define the path to the preprocessed MEG epochs file based on the subject ID\n",
    "    path = config.derivatives_path + 'fixation/sub-'+subject+'/meg/sub-'+subject+'_task-reproduction_epo.fif'\n",
    "    \n",
    "    # Load the MEG epochs from the file with preload enabled (data loaded into memory)\n",
    "    epochs = mne.read_epochs(path, preload=True)\n",
    "    \n",
    "    # Concatenate the data from three cropped time intervals:\n",
    "    # 1. From -1 to -0.5 seconds\n",
    "    # 2. From -0.5 to 0 seconds\n",
    "    # 3. From 0 to 0.5 seconds\n",
    "    data = np.vstack([\n",
    "        epochs.copy().crop(tmin=-1, tmax=-0.5).get_data(),  # First 500 ms epoch\n",
    "        epochs.copy().crop(tmin=-0.5, tmax=0).get_data(),   # Second 500 ms epoch\n",
    "        epochs.copy().crop(tmin=0, tmax=0.5).get_data()     # Third 500 ms epoch\n",
    "    ])\n",
    "    \n",
    "    # Create a new EpochsArray object using the concatenated data and the original epochs' info\n",
    "    epochs = mne.EpochsArray(data=data, info=epochs.copy().crop(tmin=0, tmax=0.5).info)\n",
    "\n",
    "    # Return the new EpochsArray\n",
    "    return epochs\n"
   ]
  },
  {
   "cell_type": "code",
   "execution_count": null,
   "id": "05180281-1d3b-4279-9799-6a0411dcf985",
   "metadata": {},
   "outputs": [],
   "source": [
    "# -- Functions\n",
    "def extract_epoch_null_category(subject):\n",
    "    path = f'/Volumes/T5_EVO/1-experiments/REPLAYSEQ/2-Data/derivatives/items/sub-{subject:02}/meg/sub-{subject:02}_task-reproduction_epo.fif'\n",
    "    epochs= mne.read_epochs(path, preload=True)\n",
    "    \n",
    "    # Concatenate the data from three cropped time intervals:\n",
    "    # 1. From -1 to -0.5 seconds\n",
    "    # 2. From -0.5 to 0 seconds\n",
    "    # 3. From 0 to 0.5 seconds\n",
    "    data=np.vstack([\n",
    "        epochs.copy().crop(tmin=-1,tmax=-0.5).get_data(),\n",
    "        epochs.copy().crop(tmin=-0.5,tmax=0).get_data(),\n",
    "        epochs.copy().crop(tmin=0, tmax=0.5).get_data()\n",
    "    ])\n",
    "\n",
    "\n",
    "def create_training_epochs_7categories(subject):\n",
    "    epochs_null=extract_epoch_null_category(subject)"
   ]
  },
  {
   "cell_type": "code",
   "execution_count": 17,
   "id": "42f388c4-0dd2-44b5-8153-19f6e4a6e699",
   "metadata": {},
   "outputs": [],
   "source": [
    "sub=8\n",
    "base_path='/Volumes/T5_EVO/1-experiments/REPLAYSEQ/2-Data/derivatives/items/sub-08/meg'\n",
    "items_epo_path=os.path.join(base_path,f'sub-08_task-reproduction_epo.fif')\n",
    "fixation_epo_path='/Volumes/T5_EVO/1-experiments/REPLAYSEQ/2-Data/derivatives/fixation/sub-08/meg/sub-08_task-reproduction_epo.fif'"
   ]
  },
  {
   "cell_type": "code",
   "execution_count": 19,
   "id": "8ed78f4d-2647-49d5-ad5c-cabd76d204a3",
   "metadata": {},
   "outputs": [
    {
     "name": "stdout",
     "output_type": "stream",
     "text": [
      "Reading /Volumes/T5_EVO/1-experiments/REPLAYSEQ/2-Data/derivatives/items/sub-08/meg/sub-08_task-reproduction_epo.fif ...\n",
      "    Found the data of interest:\n",
      "        t =    -192.00 ...     592.00 ms\n",
      "        0 CTF compensation matrices available\n",
      "Adding metadata with 58 columns\n",
      "3240 matching events found\n",
      "No baseline correction applied\n",
      "0 projection items activated\n"
     ]
    }
   ],
   "source": [
    "items_epo=mne.read_epochs(items_epo_path,preload=True)"
   ]
  },
  {
   "cell_type": "code",
   "execution_count": 32,
   "id": "3d3a2463-a9a6-47a5-8362-49ae05bc876e",
   "metadata": {},
   "outputs": [
    {
     "data": {
      "text/html": [
       "<details open>\n",
       "    <summary><strong>General</strong></summary>\n",
       "    <table class=\"table table-hover table-striped table-sm table-responsive small\">\n",
       "        <tr>\n",
       "            <th>Measurement date</th>\n",
       "            \n",
       "            <td>juillet 22, 2024  07:28:33 GMT</td>\n",
       "            \n",
       "        </tr>\n",
       "        <tr>\n",
       "            <th>Experimenter</th>\n",
       "            \n",
       "            <td>mne_anonymize</td>\n",
       "            \n",
       "        </tr>\n",
       "        <tr>\n",
       "            <th>Participant</th>\n",
       "            \n",
       "            \n",
       "            <td>sub-08</td>\n",
       "            \n",
       "            \n",
       "        </tr>\n",
       "    </table>\n",
       "    </details>\n",
       "    <details open>\n",
       "        <summary><strong>Channels</strong></summary>\n",
       "        <table class=\"table table-hover table-striped table-sm table-responsive small\">\n",
       "            <tr>\n",
       "                <th>Digitized points</th>\n",
       "                \n",
       "                <td>54 points</td>\n",
       "                \n",
       "            </tr>\n",
       "            <tr>\n",
       "                <th>Good channels</th>\n",
       "                <td>2 EOG, 1 ECG, 11 Internal Active Shielding data (Triux systems), 102 Magnetometers, 204 Gradiometers, 5 misc, 17 Stimulus, 1 System status channel information (Triux systems)</td>\n",
       "            </tr>\n",
       "            <tr>\n",
       "                <th>Bad channels</th>\n",
       "                <td>None</td>\n",
       "            </tr>\n",
       "            <tr>\n",
       "                <th>EOG channels</th>\n",
       "                <td>EOG001, EOG002</td>\n",
       "            </tr>\n",
       "            <tr>\n",
       "                <th>ECG channels</th>\n",
       "                <td>ECG003</td>\n",
       "            </tr>\n",
       "        </table>\n",
       "        </details>\n",
       "        <details open>\n",
       "            <summary><strong>Data</strong></summary>\n",
       "            <table class=\"table table-hover table-striped table-sm table-responsive small\">\n",
       "                \n",
       "                <tr>\n",
       "                    <th>Sampling frequency</th>\n",
       "                    <td>62.50 Hz</td>\n",
       "                </tr>\n",
       "                \n",
       "                \n",
       "                <tr>\n",
       "                    <th>Highpass</th>\n",
       "                    <td>0.03 Hz</td>\n",
       "                </tr>\n",
       "                \n",
       "                \n",
       "                <tr>\n",
       "                    <th>Lowpass</th>\n",
       "                    <td>40.00 Hz</td>\n",
       "                </tr>\n",
       "                \n",
       "                \n",
       "                \n",
       "                \n",
       "            </table>\n",
       "            </details>"
      ],
      "text/plain": [
       "<Info | 24 non-empty values\n",
       " acq_pars: ACQactiveGround 1 ACQch.BIO001.gain 2000 ACQch.BIO001.highpass ...\n",
       " bads: []\n",
       " ch_names: EOG001, EOG002, ECG003, IASX+, IASX-, IASY+, IASY-, IASZ+, ...\n",
       " chs: 2 EOG, 1 ECG, 11 Internal Active Shielding data (Triux systems), 102 Magnetometers, 204 Gradiometers, 5 misc, 17 Stimulus, 1 System status channel information (Triux systems)\n",
       " custom_ref_applied: False\n",
       " description: Anonymized using a time shift to preserve age at acquisition\n",
       " dev_head_t: MEG device -> head transform\n",
       " device_info: 4 items (dict)\n",
       " dig: 54 items (3 Cardinal, 5 HPI, 46 Extra)\n",
       " events: 1 item (list)\n",
       " experimenter: mne_anonymize\n",
       " file_id: 4 items (dict)\n",
       " gantry_angle: 68.0\n",
       " helium_info: 2 items (dict)\n",
       " highpass: 0.0 Hz\n",
       " hpi_results: 1 item (list)\n",
       " line_freq: 50.0\n",
       " lowpass: 40.0 Hz\n",
       " meas_date: 2024-07-22 07:28:33 UTC\n",
       " meas_id: 4 items (dict)\n",
       " nchan: 343\n",
       " proc_history: 2 items (list)\n",
       " proj_id: 1 item (ndarray)\n",
       " proj_name: mne_anonymize\n",
       " projs: []\n",
       " sfreq: 62.5 Hz\n",
       " subject_info: 3 items (dict)\n",
       ">"
      ]
     },
     "execution_count": 32,
     "metadata": {},
     "output_type": "execute_result"
    }
   ],
   "source": [
    "items_epo.info"
   ]
  },
  {
   "cell_type": "code",
   "execution_count": 15,
   "id": "53ce2f5f-1722-495b-a523-62bf686a4386",
   "metadata": {},
   "outputs": [],
   "source": [
    "# Get behavioral file: this is ground truth\n",
    "\n",
    "# Load item based epochs (position 1,2,3,4,5,6)\n",
    "\n",
    "# Load fixation based epochs (position 7 == nothing)\n",
    "\n"
   ]
  }
 ],
 "metadata": {
  "kernelspec": {
   "display_name": "mne_python",
   "language": "python",
   "name": "mne_python"
  },
  "language_info": {
   "codemirror_mode": {
    "name": "ipython",
    "version": 3
   },
   "file_extension": ".py",
   "mimetype": "text/x-python",
   "name": "python",
   "nbconvert_exporter": "python",
   "pygments_lexer": "ipython3",
   "version": "3.9.19"
  }
 },
 "nbformat": 4,
 "nbformat_minor": 5
}
