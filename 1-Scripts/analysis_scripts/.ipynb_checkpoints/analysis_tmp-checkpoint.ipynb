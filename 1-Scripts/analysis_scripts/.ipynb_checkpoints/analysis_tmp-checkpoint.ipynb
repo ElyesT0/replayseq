{
 "cells": [
  {
   "cell_type": "code",
   "execution_count": 1,
   "id": "d90eb16a-3681-43f6-af53-a47893f76650",
   "metadata": {},
   "outputs": [],
   "source": [
    "from modules import *\n",
    "import pandas as pd\n",
    "%load_ext autoreload\n",
    "%autoreload 2\n",
    "%matplotlib qt"
   ]
  },
  {
   "cell_type": "code",
   "execution_count": 3,
   "id": "0b0e3927-9f12-4e9b-aef9-b230fbea8a1a",
   "metadata": {},
   "outputs": [],
   "source": [
    "# Directories\n",
    "dir_root=\"/Volumes/T5_EVO/1-experiments/REPLAYSEQ/2-Data/derivatives\"\n",
    "dir_epo_items=os.path.join(dir_root,\"items\")\n",
    "dir_epo_sequence=os.path.join(dir_root,\"sequence\")\n",
    "dir_epo_fixation=os.path.join(dir_root,\"fixation\")"
   ]
  },
  {
   "cell_type": "code",
   "execution_count": 7,
   "id": "b5dbf3da-2636-4fc4-ad96-16703f0acee0",
   "metadata": {},
   "outputs": [
    {
     "name": "stdout",
     "output_type": "stream",
     "text": [
      "Reading /Volumes/T5_EVO/1-experiments/REPLAYSEQ/2-Data/derivatives/items/sub-01/meg/sub-01_task-reproduction_epo.fif ...\n",
      "    Found the data of interest:\n",
      "        t =    -192.00 ...     592.00 ms\n",
      "        0 CTF compensation matrices available\n",
      "Adding metadata with 58 columns\n",
      "3510 matching events found\n",
      "No baseline correction applied\n",
      "0 projection items activated\n"
     ]
    }
   ],
   "source": [
    "# Load Epochs\n",
    "sub_nb=1\n",
    "epo_items=mne.read_epochs(os.path.join(dir_epo_items,f'sub-{sub_nb:02}/meg/sub-{sub_nb:02}_task-reproduction_epo.fif'),preload=True)"
   ]
  },
  {
   "cell_type": "code",
   "execution_count": null,
   "id": "4436fbd2-99fc-4902-84fa-13b7a6e9d466",
   "metadata": {},
   "outputs": [],
   "source": [
    "# Fit the ICA\n",
    "ica = ICA(n_components=30, method=\"fastica\", max_iter=\"auto\").fit(epochs)\n",
    "\n",
    "ecg_epochs = create_ecg_epochs(filt_raw, tmin=-0.5, tmax=0.5)\n",
    "ecg_inds, scores = ica.find_bads_ecg(ecg_epochs, threshold=\"auto\")\n",
    "\n",
    "ica.plot_components(ecg_inds)"
   ]
  }
 ],
 "metadata": {
  "kernelspec": {
   "display_name": "mne_python",
   "language": "python",
   "name": "mne_python"
  },
  "language_info": {
   "codemirror_mode": {
    "name": "ipython",
    "version": 3
   },
   "file_extension": ".py",
   "mimetype": "text/x-python",
   "name": "python",
   "nbconvert_exporter": "python",
   "pygments_lexer": "ipython3",
   "version": "3.9.19"
  }
 },
 "nbformat": 4,
 "nbformat_minor": 5
}
