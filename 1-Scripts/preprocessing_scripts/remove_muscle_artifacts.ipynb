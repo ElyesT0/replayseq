{
 "cells": [
  {
   "cell_type": "code",
   "execution_count": 1,
   "id": "c79c0daa-ac31-4cdb-bc1a-c55345b06117",
   "metadata": {},
   "outputs": [],
   "source": [
    "import sys\n",
    "from pathlib import Path\n",
    "\n",
    "# Specify the path to your modules directory\n",
    "module_path = Path(\"/Users/elyestabbane/Documents/UNICOG/2-Experiments/replayseq/1-Scripts/analysis_scripts\")\n",
    "\n",
    "# Add the directory to sys.path if it's not already included\n",
    "if module_path not in sys.path:\n",
    "    sys.path.append(str(module_path))\n",
    "\n",
    "# Import your modules\n",
    "from modules import *\n",
    "import pandas as pd\n",
    "%load_ext autoreload\n",
    "%autoreload 2\n",
    "%matplotlib qt"
   ]
  },
  {
   "cell_type": "code",
   "execution_count": 2,
   "id": "212ce9c6-dc59-46b4-8bfd-4553c2c5430d",
   "metadata": {},
   "outputs": [],
   "source": [
    "import os\n",
    "import mne\n",
    "from mne_bids import BIDSPath, write_raw_bids, write_meg_calibration, write_meg_crosstalk\n",
    "import json\n",
    "import numpy as np\n",
    "\n",
    "# Path to BIDS directory\n",
    "path_bids = \"/Volumes/T5_EVO/1-experiments/REPLAYSEQ/2-Data/BIDS\""
   ]
  },
  {
   "cell_type": "code",
   "execution_count": 3,
   "id": "8ef485d3-a09f-4d99-870c-557b9188e8d8",
   "metadata": {},
   "outputs": [],
   "source": [
    "subject=16"
   ]
  },
  {
   "cell_type": "code",
   "execution_count": 4,
   "id": "b0b16b67-4d22-42e6-b5ee-36c75e375216",
   "metadata": {},
   "outputs": [],
   "source": [
    "with open(path_json_file, 'r') as file:\n",
    "        bad_channels_dict = json.load(file)"
   ]
  },
  {
   "cell_type": "code",
   "execution_count": 5,
   "id": "069e0fc5-3f25-4827-a28e-781d808a1327",
   "metadata": {},
   "outputs": [],
   "source": [
    "lab=bad_channels_dict[f\"sub-{subject:02}\"]['lab']\n",
    "if lab == 'icm':\n",
    "    original_data_path = os.path.join(path_root, 'Data_ICM', f\"sub-{subject:02}\")\n",
    "else:\n",
    "    original_data_path = os.path.join(path_root, 'Data_neurospin', f\"sub-{subject:02}\")"
   ]
  },
  {
   "cell_type": "code",
   "execution_count": 6,
   "id": "13eaca04-ea0c-4760-8a2b-2be1f967e690",
   "metadata": {},
   "outputs": [],
   "source": [
    "run=2\n",
    "run_str=f'run{run:02}'\n",
    "\n",
    "if lab == 'icm':\n",
    "    data_path = os.path.join(original_data_path, f'{run_str}.fif')\n",
    "else:\n",
    "    data_path = os.path.join(original_data_path, f'{run_str}_raw.fif')\n",
    "\n",
    "if not os.path.exists(data_path):\n",
    "    print(f\"File not found: {data_path}, skipping run {run_str}\")"
   ]
  },
  {
   "cell_type": "code",
   "execution_count": 7,
   "id": "b367fb8d-36d4-4dc6-8acd-9efb5d3babee",
   "metadata": {},
   "outputs": [
    {
     "name": "stdout",
     "output_type": "stream",
     "text": [
      "Opening raw data file /Volumes/T5_EVO/1-experiments/REPLAYSEQ/2-Data/raw/Data_neurospin/sub-16/run02_raw.fif...\n",
      "    Read a total of 13 projection items:\n",
      "        generated with dossp-2.1 (1 x 306)  idle\n",
      "        generated with dossp-2.1 (1 x 306)  idle\n",
      "        generated with dossp-2.1 (1 x 306)  idle\n",
      "        generated with dossp-2.1 (1 x 306)  idle\n",
      "        generated with dossp-2.1 (1 x 306)  idle\n",
      "        generated with dossp-2.1 (1 x 306)  idle\n",
      "        generated with dossp-2.1 (1 x 306)  idle\n",
      "        generated with dossp-2.1 (1 x 306)  idle\n",
      "        generated with dossp-2.1 (1 x 306)  idle\n",
      "        generated with dossp-2.1 (1 x 306)  idle\n",
      "        generated with dossp-2.1 (1 x 306)  idle\n",
      "        generated with dossp-2.1 (1 x 306)  idle\n",
      "        generated with dossp-2.1 (1 x 306)  idle\n",
      "    Range : 33000 ... 418999 =     33.000 ...   418.999 secs\n",
      "Ready.\n",
      "Reading 0 ... 385999  =      0.000 ...   385.999 secs...\n"
     ]
    },
    {
     "name": "stderr",
     "output_type": "stream",
     "text": [
      "/var/folders/qn/h72tf80n225331v43m72lykw0000gn/T/ipykernel_62998/3439713663.py:1: RuntimeWarning: This file contains raw Internal Active Shielding data. It may be distorted. Elekta recommends it be run through MaxFilter to produce reliable results. Consider closing the file and running MaxFilter on the data.\n",
      "  raw = mne.io.read_raw_fif(data_path, allow_maxshield=True, preload=True)\n"
     ]
    }
   ],
   "source": [
    "raw = mne.io.read_raw_fif(data_path, allow_maxshield=True, preload=True)"
   ]
  },
  {
   "cell_type": "code",
   "execution_count": 24,
   "id": "07c038fc-08a9-47e6-820c-2f8dc65923e3",
   "metadata": {},
   "outputs": [
    {
     "name": "stderr",
     "output_type": "stream",
     "text": [
      "/var/folders/qn/h72tf80n225331v43m72lykw0000gn/T/ipykernel_62998/1770893561.py:3: RuntimeWarning: This file contains raw Internal Active Shielding data. It may be distorted. Elekta recommends it be run through MaxFilter to produce reliable results. Consider closing the file and running MaxFilter on the data.\n",
      "  raw = mne.io.read_raw_fif(data_path, allow_maxshield=True, preload=True, verbose=False)\n"
     ]
    },
    {
     "name": "stdout",
     "output_type": "stream",
     "text": [
      "Filtering raw data in 1 contiguous segment\n",
      "Setting up band-pass filter from 1e+02 - 3e+02 Hz\n",
      "\n",
      "FIR filter parameters\n",
      "---------------------\n",
      "Designing a one-pass, zero-phase, non-causal bandpass filter:\n",
      "- Windowed time-domain design (firwin) method\n",
      "- Hamming window with 0.0194 passband ripple and 53 dB stopband attenuation\n",
      "- Lower passband edge: 100.00\n",
      "- Lower transition bandwidth: 25.00 Hz (-6 dB cutoff frequency: 87.50 Hz)\n",
      "- Upper passband edge: 300.00 Hz\n",
      "- Upper transition bandwidth: 75.00 Hz (-6 dB cutoff frequency: 337.50 Hz)\n",
      "- Filter length: 133 samples (0.133 s)\n",
      "\n"
     ]
    },
    {
     "name": "stderr",
     "output_type": "stream",
     "text": [
      "[Parallel(n_jobs=1)]: Done  17 tasks      | elapsed:    0.1s\n",
      "[Parallel(n_jobs=1)]: Done  71 tasks      | elapsed:    0.4s\n"
     ]
    },
    {
     "name": "stdout",
     "output_type": "stream",
     "text": [
      "Setting up low-pass filter at 4 Hz\n",
      "\n",
      "FIR filter parameters\n",
      "---------------------\n",
      "Designing a one-pass, zero-phase, non-causal lowpass filter:\n",
      "- Windowed time-domain design (firwin) method\n",
      "- Hamming window with 0.0194 passband ripple and 53 dB stopband attenuation\n",
      "- Upper passband edge: 4.00 Hz\n",
      "- Upper transition bandwidth: 2.00 Hz (-6 dB cutoff frequency: 5.00 Hz)\n",
      "- Filter length: 1651 samples (1.651 s)\n",
      "\n",
      "Filtering raw data in 1 contiguous segment\n",
      "Setting up low-pass filter at 40 Hz\n",
      "\n",
      "FIR filter parameters\n",
      "---------------------\n",
      "Designing a one-pass, zero-phase, non-causal lowpass filter:\n",
      "- Windowed time-domain design (firwin) method\n",
      "- Hamming window with 0.0194 passband ripple and 53 dB stopband attenuation\n",
      "- Upper passband edge: 40.00 Hz\n",
      "- Upper transition bandwidth: 10.00 Hz (-6 dB cutoff frequency: 45.00 Hz)\n",
      "- Filter length: 331 samples (0.331 s)\n",
      "\n"
     ]
    },
    {
     "name": "stderr",
     "output_type": "stream",
     "text": [
      "[Parallel(n_jobs=1)]: Done  17 tasks      | elapsed:    0.1s\n",
      "[Parallel(n_jobs=1)]: Done  71 tasks      | elapsed:    0.2s\n",
      "[Parallel(n_jobs=1)]: Done 161 tasks      | elapsed:    0.6s\n",
      "[Parallel(n_jobs=1)]: Done 287 tasks      | elapsed:    1.1s\n"
     ]
    },
    {
     "ename": "ValueError",
     "evalue": "The provided raw data contains annotations, but \"event_id\" does not contain entries for all annotation descriptions. The following entries are missing: BAD_muscle",
     "output_type": "error",
     "traceback": [
      "\u001b[0;31m---------------------------------------------------------------------------\u001b[0m",
      "\u001b[0;31mValueError\u001b[0m                                Traceback (most recent call last)",
      "Cell \u001b[0;32mIn[24], line 42\u001b[0m\n\u001b[1;32m     33\u001b[0m bids_path \u001b[38;5;241m=\u001b[39m BIDSPath(\n\u001b[1;32m     34\u001b[0m     subject\u001b[38;5;241m=\u001b[39m\u001b[38;5;124mf\u001b[39m\u001b[38;5;124m'\u001b[39m\u001b[38;5;132;01m{\u001b[39;00msub\u001b[38;5;132;01m:\u001b[39;00m\u001b[38;5;124m02\u001b[39m\u001b[38;5;132;01m}\u001b[39;00m\u001b[38;5;124m'\u001b[39m,\n\u001b[1;32m     35\u001b[0m     task\u001b[38;5;241m=\u001b[39m\u001b[38;5;124m'\u001b[39m\u001b[38;5;124mreproduction\u001b[39m\u001b[38;5;124m'\u001b[39m,\n\u001b[0;32m   (...)\u001b[0m\n\u001b[1;32m     38\u001b[0m     root\u001b[38;5;241m=\u001b[39mpath_bids\n\u001b[1;32m     39\u001b[0m )\n\u001b[1;32m     41\u001b[0m \u001b[38;5;66;03m# Save cleaned data in BIDS format\u001b[39;00m\n\u001b[0;32m---> 42\u001b[0m \u001b[43mwrite_raw_bids\u001b[49m\u001b[43m(\u001b[49m\n\u001b[1;32m     43\u001b[0m \u001b[43m    \u001b[49m\u001b[43mraw_cleaned\u001b[49m\u001b[43m,\u001b[49m\n\u001b[1;32m     44\u001b[0m \u001b[43m    \u001b[49m\u001b[43mbids_path\u001b[49m\u001b[38;5;241;43m=\u001b[39;49m\u001b[43mbids_path\u001b[49m\u001b[43m,\u001b[49m\n\u001b[1;32m     45\u001b[0m \u001b[43m    \u001b[49m\u001b[43mevents\u001b[49m\u001b[38;5;241;43m=\u001b[39;49m\u001b[43mevents\u001b[49m\u001b[43m,\u001b[49m\n\u001b[1;32m     46\u001b[0m \u001b[43m    \u001b[49m\u001b[43mevent_id\u001b[49m\u001b[38;5;241;43m=\u001b[39;49m\u001b[43mevent_ids\u001b[49m\u001b[43m,\u001b[49m\n\u001b[1;32m     47\u001b[0m \u001b[43m    \u001b[49m\u001b[43moverwrite\u001b[49m\u001b[38;5;241;43m=\u001b[39;49m\u001b[38;5;28;43;01mTrue\u001b[39;49;00m\u001b[43m,\u001b[49m\n\u001b[1;32m     48\u001b[0m \u001b[43m    \u001b[49m\u001b[38;5;28;43mformat\u001b[39;49m\u001b[38;5;241;43m=\u001b[39;49m\u001b[38;5;124;43m'\u001b[39;49m\u001b[38;5;124;43mFIF\u001b[39;49m\u001b[38;5;124;43m'\u001b[39;49m\u001b[43m,\u001b[49m\n\u001b[1;32m     49\u001b[0m \u001b[43m    \u001b[49m\u001b[43mverbose\u001b[49m\u001b[38;5;241;43m=\u001b[39;49m\u001b[38;5;28;43;01mFalse\u001b[39;49;00m\u001b[43m,\u001b[49m\n\u001b[1;32m     50\u001b[0m \u001b[43m    \u001b[49m\u001b[43mallow_preload\u001b[49m\u001b[38;5;241;43m=\u001b[39;49m\u001b[38;5;28;43;01mTrue\u001b[39;49;00m\n\u001b[1;32m     51\u001b[0m \u001b[43m)\u001b[49m\n\u001b[1;32m     53\u001b[0m \u001b[38;5;66;03m# Save MEG calibration and crosstalk files\u001b[39;00m\n\u001b[1;32m     54\u001b[0m \u001b[38;5;28;01mif\u001b[39;00m lab \u001b[38;5;241m==\u001b[39m \u001b[38;5;124m'\u001b[39m\u001b[38;5;124micm\u001b[39m\u001b[38;5;124m'\u001b[39m:\n",
      "File \u001b[0;32m<decorator-gen-445>:10\u001b[0m, in \u001b[0;36mwrite_raw_bids\u001b[0;34m(raw, bids_path, events, event_id, anonymize, format, symlink, empty_room, allow_preload, montage, acpc_aligned, overwrite, verbose)\u001b[0m\n",
      "File \u001b[0;32m/opt/anaconda3/envs/mne_python/lib/python3.9/site-packages/mne_bids/write.py:1979\u001b[0m, in \u001b[0;36mwrite_raw_bids\u001b[0;34m(raw, bids_path, events, event_id, anonymize, format, symlink, empty_room, allow_preload, montage, acpc_aligned, overwrite, verbose)\u001b[0m\n\u001b[1;32m   1977\u001b[0m \u001b[38;5;66;03m# Write events.\u001b[39;00m\n\u001b[1;32m   1978\u001b[0m \u001b[38;5;28;01mif\u001b[39;00m \u001b[38;5;129;01mnot\u001b[39;00m data_is_emptyroom:\n\u001b[0;32m-> 1979\u001b[0m     events_array, event_dur, event_desc_id_map \u001b[38;5;241m=\u001b[39m \u001b[43m_read_events\u001b[49m\u001b[43m(\u001b[49m\n\u001b[1;32m   1980\u001b[0m \u001b[43m        \u001b[49m\u001b[43mevents\u001b[49m\u001b[43m,\u001b[49m\u001b[43m \u001b[49m\u001b[43mevent_id\u001b[49m\u001b[43m,\u001b[49m\u001b[43m \u001b[49m\u001b[43mraw\u001b[49m\u001b[43m,\u001b[49m\u001b[43m \u001b[49m\u001b[43mbids_path\u001b[49m\u001b[38;5;241;43m=\u001b[39;49m\u001b[43mbids_path\u001b[49m\n\u001b[1;32m   1981\u001b[0m \u001b[43m    \u001b[49m\u001b[43m)\u001b[49m\n\u001b[1;32m   1982\u001b[0m     \u001b[38;5;28;01mif\u001b[39;00m events_array\u001b[38;5;241m.\u001b[39msize \u001b[38;5;241m!=\u001b[39m \u001b[38;5;241m0\u001b[39m:\n\u001b[1;32m   1983\u001b[0m         _events_tsv(\n\u001b[1;32m   1984\u001b[0m             events\u001b[38;5;241m=\u001b[39mevents_array,\n\u001b[1;32m   1985\u001b[0m             durations\u001b[38;5;241m=\u001b[39mevent_dur,\n\u001b[0;32m   (...)\u001b[0m\n\u001b[1;32m   1989\u001b[0m             overwrite\u001b[38;5;241m=\u001b[39moverwrite,\n\u001b[1;32m   1990\u001b[0m         )\n",
      "File \u001b[0;32m/opt/anaconda3/envs/mne_python/lib/python3.9/site-packages/mne_bids/read.py:167\u001b[0m, in \u001b[0;36m_read_events\u001b[0;34m(events, event_id, raw, bids_path)\u001b[0m\n\u001b[1;32m    165\u001b[0m             desc_without_id \u001b[38;5;241m=\u001b[39m \u001b[38;5;28msorted\u001b[39m(\u001b[38;5;28mset\u001b[39m(desc_without_id) \u001b[38;5;241m-\u001b[39m special_annots)\n\u001b[1;32m    166\u001b[0m         \u001b[38;5;28;01mif\u001b[39;00m desc_without_id:\n\u001b[0;32m--> 167\u001b[0m             \u001b[38;5;28;01mraise\u001b[39;00m \u001b[38;5;167;01mValueError\u001b[39;00m(\n\u001b[1;32m    168\u001b[0m                 \u001b[38;5;124mf\u001b[39m\u001b[38;5;124m\"\u001b[39m\u001b[38;5;124mThe provided raw data contains annotations, but \u001b[39m\u001b[38;5;124m\"\u001b[39m\n\u001b[1;32m    169\u001b[0m                 \u001b[38;5;124mf\u001b[39m\u001b[38;5;124m'\u001b[39m\u001b[38;5;124m\"\u001b[39m\u001b[38;5;124mevent_id\u001b[39m\u001b[38;5;124m\"\u001b[39m\u001b[38;5;124m does not contain entries for all annotation \u001b[39m\u001b[38;5;124m'\u001b[39m\n\u001b[1;32m    170\u001b[0m                 \u001b[38;5;124mf\u001b[39m\u001b[38;5;124m\"\u001b[39m\u001b[38;5;124mdescriptions. The following entries are missing: \u001b[39m\u001b[38;5;124m\"\u001b[39m\n\u001b[1;32m    171\u001b[0m                 \u001b[38;5;124mf\u001b[39m\u001b[38;5;124m'\u001b[39m\u001b[38;5;132;01m{\u001b[39;00m\u001b[38;5;124m\"\u001b[39m\u001b[38;5;124m, \u001b[39m\u001b[38;5;124m\"\u001b[39m\u001b[38;5;241m.\u001b[39mjoin(desc_without_id)\u001b[38;5;132;01m}\u001b[39;00m\u001b[38;5;124m'\u001b[39m\n\u001b[1;32m    172\u001b[0m             )\n\u001b[1;32m    174\u001b[0m \u001b[38;5;66;03m# If we have events, convert them to Annotations so they can be easily\u001b[39;00m\n\u001b[1;32m    175\u001b[0m \u001b[38;5;66;03m# merged with existing Annotations.\u001b[39;00m\n\u001b[1;32m    176\u001b[0m \u001b[38;5;28;01mif\u001b[39;00m events\u001b[38;5;241m.\u001b[39msize \u001b[38;5;241m>\u001b[39m \u001b[38;5;241m0\u001b[39m:\n",
      "\u001b[0;31mValueError\u001b[0m: The provided raw data contains annotations, but \"event_id\" does not contain entries for all annotation descriptions. The following entries are missing: BAD_muscle"
     ]
    }
   ],
   "source": [
    "sub=subject\n",
    "# Load raw data\n",
    "raw = mne.io.read_raw_fif(data_path, allow_maxshield=True, preload=True, verbose=False)\n",
    "\n",
    "# Annotate muscle artifacts\n",
    "annot_muscle, scores_muscle = mne.preprocessing.annotate_muscle_zscore(\n",
    "    raw,\n",
    "    ch_type=\"mag\",\n",
    "    threshold=5,\n",
    "    min_length_good=0.2,\n",
    "    filter_freq=[100, 300],\n",
    ")\n",
    "\n",
    "# Set annotations\n",
    "raw.set_annotations(annot_muscle)\n",
    "\n",
    "# Remove muscle artifacts\n",
    "raw_cleaned = raw.copy().filter(l_freq=None, h_freq=40.0)\n",
    "\n",
    "# Update bad channels from JSON file\n",
    "raw_cleaned.info['bads'] = bad_channels_dict[f'sub-{subject}'][run_str]\n",
    "\n",
    "# Extract events and event IDs\n",
    "if lab == 'icm':\n",
    "    events = mne.find_events(raw_cleaned, min_duration=0.01, verbose=False)\n",
    "    events = events[events[:, 2] % 10 != 0, :]\n",
    "    event_ids = {\"Fixation\": 9, \"Reproduction\": 99, \"Resting_state\": 128}\n",
    "else:\n",
    "    events = mne.find_events(raw_cleaned, mask_type=\"not_and\", mask=2**6 + 2**7, verbose=False)\n",
    "    event_ids = event_dict\n",
    "\n",
    "# Create BIDS path\n",
    "bids_path = BIDSPath(\n",
    "    subject=f'{sub:02}',\n",
    "    task='reproduction',\n",
    "    run=run,\n",
    "    datatype='meg',\n",
    "    root=path_bids\n",
    ")\n",
    "\n",
    "# Save cleaned data in BIDS format\n",
    "write_raw_bids(\n",
    "    raw_cleaned,\n",
    "    bids_path=bids_path,\n",
    "    events=events,\n",
    "    event_id=event_ids,\n",
    "    overwrite=True,\n",
    "    format='FIF',\n",
    "    verbose=False,\n",
    "    allow_preload=True\n",
    ")\n",
    "\n",
    "# Save MEG calibration and crosstalk files\n",
    "if lab == 'icm':\n",
    "    ct_fname = os.path.join(path_bids, \"calibration_files/calibration_icm/ct_sparse.fif\")\n",
    "    cal_fname = os.path.join(path_bids, \"calibration_files/calibration_icm/sss_cal_3101_160108.dat\")\n",
    "else:\n",
    "    ct_fname = os.path.join(path_bids, \"calibration_files/calibration_neurospin/ct_sparse.fif\")\n",
    "    cal_fname = os.path.join(path_bids, \"calibration_files/calibration_neurospin/sss_cal_3176_20240123_2.dat\")\n",
    "\n",
    "write_meg_calibration(calibration=cal_fname, bids_path=bids_path, verbose=False)\n",
    "write_meg_crosstalk(fname=ct_fname, bids_path=bids_path, verbose=False)\n",
    "\n",
    "# Plot power spectral density (PSD) and save the figure\n",
    "fig = raw_cleaned.compute_psd(picks='mag').plot()\n",
    "fig.savefig(os.path.join(path_bids, f'sub-{sub:02}_run{run:02}_psd.png'))\n",
    "\n",
    "print(f\"Saving {subject} to {path_bids}\")"
   ]
  },
  {
   "cell_type": "code",
   "execution_count": null,
   "id": "528b2566-57db-42b6-84f5-684d0f507727",
   "metadata": {},
   "outputs": [],
   "source": []
  }
 ],
 "metadata": {
  "kernelspec": {
   "display_name": "MNE Python",
   "language": "python",
   "name": "mne_python"
  },
  "language_info": {
   "codemirror_mode": {
    "name": "ipython",
    "version": 3
   },
   "file_extension": ".py",
   "mimetype": "text/x-python",
   "name": "python",
   "nbconvert_exporter": "python",
   "pygments_lexer": "ipython3",
   "version": "3.9.19"
  }
 },
 "nbformat": 4,
 "nbformat_minor": 5
}
