{
 "cells": [
  {
   "cell_type": "code",
   "execution_count": 2,
   "id": "fc883400-3e27-4c8b-a67e-88007d8ebcdc",
   "metadata": {},
   "outputs": [],
   "source": [
    "import sys\n",
    "from pathlib import Path\n",
    "\n",
    "# Specify the path to your modules directory\n",
    "module_path = Path(\"/Users/elyestabbane/Documents/UNICOG/2-Experiments/replayseq/1-Scripts/analysis_scripts\")\n",
    "\n",
    "# Add the directory to sys.path if it's not already included\n",
    "if module_path not in sys.path:\n",
    "    sys.path.append(str(module_path))\n",
    "\n",
    "# Import your modules\n",
    "from modules import *\n",
    "import pandas as pd\n",
    "%load_ext autoreload\n",
    "%autoreload 2\n",
    "%matplotlib qt"
   ]
  },
  {
   "cell_type": "code",
   "execution_count": 3,
   "id": "d46dafeb-03f7-45a8-9edb-9ea3ec9f738b",
   "metadata": {},
   "outputs": [],
   "source": [
    "import os\n",
    "import mne\n",
    "from mne_bids import BIDSPath, write_raw_bids, write_meg_calibration, write_meg_crosstalk\n",
    "import json\n",
    "import numpy as np\n",
    "\n",
    "# Path to BIDS directory\n",
    "root_path=\"/Volumes/T5_EVO/1-experiments/REPLAYSEQ/2-Data\"\n",
    "path_BIDS =os.path.join(root_path,\"BIDS\")\n",
    "path_raw=os.path.join(root_path,\"raw\")"
   ]
  },
  {
   "cell_type": "code",
   "execution_count": 4,
   "id": "2318ce48-7932-4317-925e-2b5548ab2f6c",
   "metadata": {
    "scrolled": true
   },
   "outputs": [
    {
     "name": "stdout",
     "output_type": "stream",
     "text": [
      "--- Subject-16 (neurospin): saving in bids format run-1 ------\n",
      "Opening raw data file /Volumes/T5_EVO/1-experiments/REPLAYSEQ/2-Data/raw/Data_neurospin/sub-16/run01_raw.fif...\n",
      "    Read a total of 13 projection items:\n",
      "        generated with dossp-2.1 (1 x 306)  idle\n",
      "        generated with dossp-2.1 (1 x 306)  idle\n",
      "        generated with dossp-2.1 (1 x 306)  idle\n",
      "        generated with dossp-2.1 (1 x 306)  idle\n",
      "        generated with dossp-2.1 (1 x 306)  idle\n",
      "        generated with dossp-2.1 (1 x 306)  idle\n",
      "        generated with dossp-2.1 (1 x 306)  idle\n",
      "        generated with dossp-2.1 (1 x 306)  idle\n",
      "        generated with dossp-2.1 (1 x 306)  idle\n",
      "        generated with dossp-2.1 (1 x 306)  idle\n",
      "        generated with dossp-2.1 (1 x 306)  idle\n",
      "        generated with dossp-2.1 (1 x 306)  idle\n",
      "        generated with dossp-2.1 (1 x 306)  idle\n",
      "    Range : 52000 ... 468999 =     52.000 ...   468.999 secs\n",
      "Ready.\n",
      "Reading 0 ... 416999  =      0.000 ...   416.999 secs...\n"
     ]
    },
    {
     "name": "stderr",
     "output_type": "stream",
     "text": [
      "/var/folders/qn/h72tf80n225331v43m72lykw0000gn/T/ipykernel_64886/2627218118.py:16: RuntimeWarning: This file contains raw Internal Active Shielding data. It may be distorted. Elekta recommends it be run through MaxFilter to produce reliable results. Consider closing the file and running MaxFilter on the data.\n",
      "  raw=mne.io.read_raw_fif(data_path,allow_maxshield=True,preload=True)\n"
     ]
    },
    {
     "name": "stdout",
     "output_type": "stream",
     "text": [
      "Adding Events\n",
      "Annotating muscle artifact\n",
      "Filtering raw data in 1 contiguous segment\n",
      "Setting up band-pass filter from 1e+02 - 3e+02 Hz\n",
      "\n",
      "FIR filter parameters\n",
      "---------------------\n",
      "Designing a one-pass, zero-phase, non-causal bandpass filter:\n",
      "- Windowed time-domain design (firwin) method\n",
      "- Hamming window with 0.0194 passband ripple and 53 dB stopband attenuation\n",
      "- Lower passband edge: 100.00\n",
      "- Lower transition bandwidth: 25.00 Hz (-6 dB cutoff frequency: 87.50 Hz)\n",
      "- Upper passband edge: 300.00 Hz\n",
      "- Upper transition bandwidth: 75.00 Hz (-6 dB cutoff frequency: 337.50 Hz)\n",
      "- Filter length: 133 samples (0.133 s)\n",
      "\n"
     ]
    },
    {
     "name": "stderr",
     "output_type": "stream",
     "text": [
      "[Parallel(n_jobs=1)]: Done  17 tasks      | elapsed:    0.1s\n",
      "[Parallel(n_jobs=1)]: Done  71 tasks      | elapsed:    0.4s\n"
     ]
    },
    {
     "name": "stdout",
     "output_type": "stream",
     "text": [
      "Setting up low-pass filter at 4 Hz\n",
      "\n",
      "FIR filter parameters\n",
      "---------------------\n",
      "Designing a one-pass, zero-phase, non-causal lowpass filter:\n",
      "- Windowed time-domain design (firwin) method\n",
      "- Hamming window with 0.0194 passband ripple and 53 dB stopband attenuation\n",
      "- Upper passband edge: 4.00 Hz\n",
      "- Upper transition bandwidth: 2.00 Hz (-6 dB cutoff frequency: 5.00 Hz)\n",
      "- Filter length: 1651 samples (1.651 s)\n",
      "\n",
      "Writing '/Volumes/T5_EVO/1-experiments/REPLAYSEQ/2-Data/BIDS/participants.tsv'...\n",
      "Writing '/Volumes/T5_EVO/1-experiments/REPLAYSEQ/2-Data/BIDS/participants.json'...\n",
      "Writing '/Volumes/T5_EVO/1-experiments/REPLAYSEQ/2-Data/BIDS/sub-16/meg/sub-16_coordsystem.json'...\n",
      "Writing '/Volumes/T5_EVO/1-experiments/REPLAYSEQ/2-Data/BIDS/sub-16/meg/sub-16_coordsystem.json'...\n",
      "Used Annotations descriptions: ['BAD_muscle', 'SequenceID-Rep4/Position-1', 'SequenceID-Rep4/Position-2', 'SequenceID-Rep4/Position-3', 'SequenceID-Rep4/Position-4', 'SequenceID-Rep4/Position-5', 'SequenceID-Rep4/Position-6', 'fixation', 'loss', 'win']\n",
      "Writing '/Volumes/T5_EVO/1-experiments/REPLAYSEQ/2-Data/BIDS/sub-16/meg/sub-16_task-reproduction_run-1_events.tsv'...\n",
      "Writing '/Volumes/T5_EVO/1-experiments/REPLAYSEQ/2-Data/BIDS/sub-16/meg/sub-16_task-reproduction_run-1_events.json'...\n",
      "Writing '/Volumes/T5_EVO/1-experiments/REPLAYSEQ/2-Data/BIDS/dataset_description.json'...\n",
      "Using 5 HPI coils: 295 307 314 321 328 Hz\n",
      "Writing '/Volumes/T5_EVO/1-experiments/REPLAYSEQ/2-Data/BIDS/sub-16/meg/sub-16_task-reproduction_run-1_meg.json'...\n",
      "Writing '/Volumes/T5_EVO/1-experiments/REPLAYSEQ/2-Data/BIDS/sub-16/meg/sub-16_task-reproduction_run-1_channels.tsv'...\n",
      "Copying data files to sub-16_task-reproduction_run-1_meg.fif\n",
      "Reserving possible split file sub-16_task-reproduction_run-1_split-01_meg.fif\n",
      "Writing /Volumes/T5_EVO/1-experiments/REPLAYSEQ/2-Data/BIDS/sub-16/meg/sub-16_task-reproduction_run-1_meg.fif\n",
      "Closing /Volumes/T5_EVO/1-experiments/REPLAYSEQ/2-Data/BIDS/sub-16/meg/sub-16_task-reproduction_run-1_meg.fif\n",
      "[done]\n",
      "Writing '/Volumes/T5_EVO/1-experiments/REPLAYSEQ/2-Data/BIDS/sub-16/sub-16_scans.tsv'...\n",
      "Wrote /Volumes/T5_EVO/1-experiments/REPLAYSEQ/2-Data/BIDS/sub-16/sub-16_scans.tsv entry with meg/sub-16_task-reproduction_run-1_meg.fif.\n",
      "File written in /Volumes/T5_EVO/1-experiments/REPLAYSEQ/2-Data/BIDS/sub-16/meg/sub-16_task-reproduction_run-1_meg.fif\n"
     ]
    }
   ],
   "source": [
    "# 0. Define subject and run\n",
    "sub_list=range(18)\n",
    "\n",
    "# 0.b. Load bad channels JSON data\n",
    "path_bad_channels=\"/Users/elyestabbane/Documents/UNICOG/2-Experiments/replayseq/1-Scripts/analysis_scripts/modules/objects/bad_channels.json\"\n",
    "with open(path_bad_channels, 'r') as file:\n",
    "        bad_channels_dict = json.load(file)\n",
    "\n",
    "for sub in sub_list:\n",
    "    for run in range(1,19):\n",
    "        # 1. load the data\n",
    "        lab=bad_channels_dict[f\"sub-{sub:02}\"]['lab']\n",
    "        original_data_path=os.path.join(path_raw,\"Data_ICM\" if lab=='icm' else f'Data_neurospin')\n",
    "        data_path=os.path.join(original_data_path,f\"sub-{sub:02}/run{run:02}_raw.fif\")\n",
    "        print(f\"--- Subject-{sub:02} ({lab}): saving in bids format run-{run} ------\")\n",
    "        raw=mne.io.read_raw_fif(data_path,allow_maxshield=True,preload=True)\n",
    "        \n",
    "        \n",
    "        # 2. Add the events\n",
    "        print('Adding Events')        \n",
    "        n_chans=raw.get_data().shape[0]\n",
    "        raw.pick(np.where(['EEG' not in raw.info['ch_names'][i] for i in range(n_chans)])[0])\n",
    "        \n",
    "        if lab=='icm':\n",
    "            raw.set_channel_types({'BIO001': 'eog'})\n",
    "            raw.set_channel_types({'BIO002': 'eog'})\n",
    "            raw.set_channel_types({'BIO003': 'ecg'})\n",
    "            events, event_ids = extract_events_and_event_IDs_ICM(raw)\n",
    "            \n",
    "        else:\n",
    "            events, event_ids = extract_events_and_event_IDs_neurospin(raw)\n",
    "        bids_path = BIDSPath(subject=f'{sub:02}', task='reproduction', run=run, datatype='meg', root=path_BIDS)\n",
    "        \n",
    "        # 3. Add the bad channels\n",
    "        raw.info['bads']=bad_channels_dict[f\"sub-{sub:02}\"][f\"run{run:02}\"]\n",
    "        \n",
    "        # 4. Annotate the muscle artifacts\n",
    "        print('Annotating muscle artifact')\n",
    "        annot_muscle, scores_muscle = mne.preprocessing.annotate_muscle_zscore(\n",
    "            raw,\n",
    "            ch_type=\"mag\",\n",
    "            threshold=5,\n",
    "            min_length_good=0.2,\n",
    "            filter_freq=[100, 300],\n",
    "        )\n",
    "        raw.set_annotations(annot_muscle)\n",
    "        \n",
    "        # 5. Save the data\n",
    "        write_raw_bids(raw, bids_path=bids_path,allow_preload=True,format='FIF',events=events,event_id=event_ids,overwrite=True)\n",
    "        print(f'File written in {bids_path}')\n",
    "        \n",
    "        # 6. write MEG calibration files\n",
    "        print('writing MEG calibration files')\n",
    "        if lab=='icm':\n",
    "            ct_fname = path_BIDS + \"/calibration_files/calibration_icm/ct_sparse.fif\"\n",
    "            cal_fname = path_BIDS + \"/calibration_files/calibration_icm/sss_cal_3101_160108.dat\"\n",
    "        else:\n",
    "            ct_fname = path_BIDS + \"/calibration_files/calibration_neurospin/ct_sparse.fif\"\n",
    "            cal_fname = path_BIDS + \"/calibration_files/calibration_neurospin/sss_cal_3176_20240123_2.dat\"\n",
    "        \n",
    "        \n",
    "        write_meg_calibration(calibration=cal_fname,bids_path=bids_path)\n",
    "        write_meg_crosstalk(fname=ct_fname,bids_path=bids_path)"
   ]
  },
  {
   "cell_type": "code",
   "execution_count": 36,
   "id": "6375ea90-20e5-4a3f-a9b6-b9ff801b5656",
   "metadata": {},
   "outputs": [
    {
     "data": {
      "text/plain": [
       "dict_keys(['file_id', 'events', 'hpi_results', 'hpi_meas', 'subject_info', 'device_info', 'helium_info', 'hpi_subsystem', 'proc_history', 'meas_id', 'experimenter', 'description', 'proj_id', 'proj_name', 'meas_date', 'utc_offset', 'sfreq', 'highpass', 'lowpass', 'line_freq', 'gantry_angle', 'chs', 'dev_head_t', 'ctf_head_t', 'dev_ctf_t', 'dig', 'bads', 'ch_names', 'nchan', 'projs', 'comps', 'acq_pars', 'acq_stim', 'custom_ref_applied', 'xplotter_layout', 'kit_system_id', 'maxshield'])"
      ]
     },
     "execution_count": 36,
     "metadata": {},
     "output_type": "execute_result"
    }
   ],
   "source": [
    "raw.info.keys()"
   ]
  }
 ],
 "metadata": {
  "kernelspec": {
   "display_name": "MNE Python",
   "language": "python",
   "name": "mne_python"
  },
  "language_info": {
   "codemirror_mode": {
    "name": "ipython",
    "version": 3
   },
   "file_extension": ".py",
   "mimetype": "text/x-python",
   "name": "python",
   "nbconvert_exporter": "python",
   "pygments_lexer": "ipython3",
   "version": "3.9.19"
  }
 },
 "nbformat": 4,
 "nbformat_minor": 5
}
