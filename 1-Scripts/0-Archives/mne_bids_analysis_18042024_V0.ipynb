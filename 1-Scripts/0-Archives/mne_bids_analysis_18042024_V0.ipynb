{
 "cells": [
  {
   "cell_type": "code",
   "execution_count": 1,
   "id": "de17108d",
   "metadata": {},
   "outputs": [
    {
     "name": "stdout",
     "output_type": "stream",
     "text": [
      "Intel MKL WARNING: Support of Intel(R) Streaming SIMD Extensions 4.2 (Intel(R) SSE4.2) enabled only processors has been deprecated. Intel oneAPI Math Kernel Library 2025.0 will require Intel(R) Advanced Vector Extensions (Intel(R) AVX) instructions.\n",
      "Intel MKL WARNING: Support of Intel(R) Streaming SIMD Extensions 4.2 (Intel(R) SSE4.2) enabled only processors has been deprecated. Intel oneAPI Math Kernel Library 2025.0 will require Intel(R) Advanced Vector Extensions (Intel(R) AVX) instructions.\n"
     ]
    }
   ],
   "source": [
    "%load_ext autoreload\n",
    "%autoreload 2\n",
    "%matplotlib qt"
   ]
  },
  {
   "cell_type": "code",
   "execution_count": 6,
   "id": "9bcf9794",
   "metadata": {},
   "outputs": [],
   "source": [
    "# --- Core packages\n",
    "import mne\n",
    "import pandas as pd\n",
    "import numpy as np\n",
    "import glob\n",
    "import matplotlib.pyplot as plt\n",
    "\n",
    "# --- Complementary packages\n",
    "import os\n",
    "import sys\n",
    "from mne.decoding import UnsupervisedSpatialFilter\n",
    "from sklearn.decomposition import PCA\n",
    "import joblib\n",
    "\n",
    "# --- Local modules\n",
    "sys.path.append('/MEG/2-MEGSEQ')\n",
    "from modules import *\n"
   ]
  },
  {
   "cell_type": "code",
   "execution_count": 2,
   "id": "3e9fe462",
   "metadata": {},
   "outputs": [],
   "source": [
    "# Path names\n",
    "# -- root\n",
    "root_path='/Volumes/T5_EVO/REPLAYSEQ/ICM/Data_ICM'\n",
    "# ---- Behavior\n",
    "behavior_path=root_path+'/behavior'\n",
    "behavior_sub_01=behavior_path+'/sub-02_2024-04-10_09h41.08.639_results.csv'\n",
    "\n",
    "# ---- Epochs\n",
    "full_sequences_path=root_path+'/epochs_sequences/mne-bids-pipeline/sub-01/meg'\n",
    "items_path=root_path+'/2-epochs_items/mne-bids-pipeline/sub-01/meg'\n",
    "# ------ fif path\n",
    "seq_run_01_path=full_sequences_path+'/sub-01_task-reproduction_epo.fif'\n",
    "items_run_01_path=items_path+'/sub-01_task-reproduction-epo.fif'\n",
    "\n",
    "# -- Save plot path\n",
    "decoder_path=\"/Users/et/Documents/UNICOG/MEG/2-MEGSEQ/plots/decoder\""
   ]
  },
  {
   "cell_type": "code",
   "execution_count": 4,
   "id": "a32d54c2",
   "metadata": {},
   "outputs": [],
   "source": [
    "# Formating behavioral dataFrame\n",
    "df=pd.read_csv(behavior_sub_01)\n",
    "behavior=format_df(df)"
   ]
  },
  {
   "cell_type": "code",
   "execution_count": 5,
   "id": "69a98d06",
   "metadata": {
    "scrolled": false
   },
   "outputs": [
    {
     "name": "stdout",
     "output_type": "stream",
     "text": [
      "Reading /Volumes/T5_EVO/REPLAYSEQ/ICM/Data_ICM/2-epochs_items/mne-bids-pipeline/sub-01/meg/sub-01_task-reproduction-epo.fif ...\n",
      "    Found the data of interest:\n",
      "        t =    -200.00 ...     600.00 ms\n",
      "        0 CTF compensation matrices available\n",
      "Adding metadata with 58 columns\n",
      "3240 matching events found\n",
      "No baseline correction applied\n",
      "0 projection items activated\n"
     ]
    }
   ],
   "source": [
    "# Load epochs with preload=False to optimize memory usage\n",
    "epochs_items_run01 = mne.read_epochs(items_run_01_path, preload=True)"
   ]
  },
  {
   "cell_type": "markdown",
   "id": "da5563d0",
   "metadata": {},
   "source": [
    "---"
   ]
  },
  {
   "cell_type": "markdown",
   "id": "87d5ae12",
   "metadata": {},
   "source": [
    "# Decoding"
   ]
  },
  {
   "cell_type": "code",
   "execution_count": 6,
   "id": "fee443d5",
   "metadata": {},
   "outputs": [],
   "source": [
    "# Create a big object containing all the elements shown to the participant in order to append it to the epochs.events\n",
    "all_items_shown=np.concatenate(behavior['PresentedSequence'])\n",
    "\n"
   ]
  },
  {
   "cell_type": "code",
   "execution_count": 7,
   "id": "e3f1cd58",
   "metadata": {},
   "outputs": [
    {
     "data": {
      "text/plain": [
       "3240"
      ]
     },
     "execution_count": 7,
     "metadata": {},
     "output_type": "execute_result"
    }
   ],
   "source": [
    "9*30*12"
   ]
  },
  {
   "cell_type": "code",
   "execution_count": 8,
   "id": "a58bbfe4",
   "metadata": {},
   "outputs": [
    {
     "data": {
      "text/plain": [
       "180"
      ]
     },
     "execution_count": 8,
     "metadata": {},
     "output_type": "execute_result"
    }
   ],
   "source": [
    "15*12"
   ]
  },
  {
   "cell_type": "code",
   "execution_count": 9,
   "id": "7b322367",
   "metadata": {},
   "outputs": [
    {
     "data": {
      "text/plain": [
       "3240"
      ]
     },
     "execution_count": 9,
     "metadata": {},
     "output_type": "execute_result"
    }
   ],
   "source": [
    "len(epochs_items_run01.events[:,2])"
   ]
  },
  {
   "cell_type": "code",
   "execution_count": 10,
   "id": "a59c3924",
   "metadata": {},
   "outputs": [
    {
     "data": {
      "text/plain": [
       "54"
      ]
     },
     "execution_count": 10,
     "metadata": {},
     "output_type": "execute_result"
    }
   ],
   "source": [
    "len(np.unique(epochs_items_run01.events[:,2]))"
   ]
  },
  {
   "cell_type": "code",
   "execution_count": 11,
   "id": "e277fc4b",
   "metadata": {},
   "outputs": [
    {
     "data": {
      "text/plain": [
       "array([ 4,  5,  6,  7,  8,  9, 10, 11, 12, 13, 14, 15, 16, 17, 18, 19, 20,\n",
       "       21, 22, 23, 24, 25, 26, 27, 28, 29, 30, 31, 32, 33, 34, 35, 36, 37,\n",
       "       38, 39, 40, 41, 42, 43, 44, 45, 46, 47, 48, 49, 50, 51, 52, 53, 54,\n",
       "       55, 56, 57], dtype=int32)"
      ]
     },
     "execution_count": 11,
     "metadata": {},
     "output_type": "execute_result"
    }
   ],
   "source": [
    "np.unique(epochs_items_run01.events[:,2])"
   ]
  },
  {
   "cell_type": "code",
   "execution_count": 12,
   "id": "d39ce068",
   "metadata": {},
   "outputs": [
    {
     "data": {
      "text/plain": [
       "480"
      ]
     },
     "execution_count": 12,
     "metadata": {},
     "output_type": "execute_result"
    }
   ],
   "source": [
    "12*40"
   ]
  },
  {
   "cell_type": "markdown",
   "id": "bab21db6",
   "metadata": {},
   "source": [
    "from tqdm import tqdm\n",
    "from sklearn.model_selection import StratifiedKFold\n",
    "\n",
    "# Create an iterator over the cross-validation splits\n",
    "cv_iter = StratifiedKFold(n_splits=5)  # Example: 5-fold cross-validation\n",
    "\n",
    "# Initialize a list to store scores\n",
    "scores = []\n",
    "\n",
    "# Iterate over cross-validation splits\n",
    "for train, test in tqdm(cv_iter.split(epochs_items_run01.get_data()), desc='Cross-validation progress'):\n",
    "    # Fit the decoder on training data\n",
    "    dec_seq.fit(epochs_items_run01[train])\n",
    "\n",
    "    # Predict and score on test data\n",
    "    score = dec_seq.score(epochs_items_run01[test])\n",
    "\n",
    "    # Append score to list\n",
    "    scores.append(score)\n",
    "\n",
    "# Calculate average score\n",
    "mean_score = np.mean(scores)\n",
    "print(f\"Average decoding score: {mean_score}\")"
   ]
  },
  {
   "cell_type": "code",
   "execution_count": 13,
   "id": "13d2ad1a",
   "metadata": {},
   "outputs": [],
   "source": [
    "dec_seq=SVM_decoder()"
   ]
  },
  {
   "cell_type": "code",
   "execution_count": 14,
   "id": "fc429299",
   "metadata": {},
   "outputs": [],
   "source": [
    "#score_seq=mne.decoding.cross_val_multiscore(dec_seq, epochs_items_run01.pick_types(meg='mag')._data, y=all_items_shown)\n"
   ]
  },
  {
   "cell_type": "code",
   "execution_count": 15,
   "id": "da0ca7bb",
   "metadata": {},
   "outputs": [],
   "source": [
    "#dec = SVM_decoder()\n",
    "\n",
    "#score = mne.decoding.cross_val_multiscore(dec, epochs_items.pick_types(meg='mag')._data, y=epochs_items.events[:,2])\n",
    "#plotting_funcs.pretty_gat(np.mean(score, axis=0), epochs_items.times,chance=1/6)\n"
   ]
  },
  {
   "cell_type": "code",
   "execution_count": 16,
   "id": "8bc16152",
   "metadata": {},
   "outputs": [],
   "source": [
    "#pretty_gat(np.mean(score_seq,axis=0),epochs_items_run01.times,chance=1/6)"
   ]
  },
  {
   "cell_type": "code",
   "execution_count": 17,
   "id": "e0e24de3",
   "metadata": {},
   "outputs": [],
   "source": [
    "#epochs_items_run01.times"
   ]
  },
  {
   "cell_type": "code",
   "execution_count": 18,
   "id": "650aaf69",
   "metadata": {},
   "outputs": [],
   "source": [
    "def pretty_gat(score,times,chance):\n",
    "    # gat= generalization across time.\n",
    "    fig, ax = plt.subplots(1, 1)\n",
    "    im = ax.imshow(\n",
    "        score,\n",
    "        interpolation=\"lanczos\",\n",
    "        origin=\"lower\",\n",
    "        cmap=\"RdBu_r\",\n",
    "        extent=times,\n",
    "        vmin=chance-2*np.std(score),\n",
    "        vmax=chance+2*np.std(score),\n",
    "    )\n",
    "    ax.set_xlabel(\"Testing Time (s)\")\n",
    "    ax.set_ylabel(\"Training Time (s)\")\n",
    "    ax.set_title(\"Temporal generalization\")\n",
    "    ax.axvline(0, color=\"k\")\n",
    "    ax.axhline(0, color=\"k\")\n",
    "    cbar = plt.colorbar(im, ax=ax)\n",
    "    cbar.set_label(\"score\")\n",
    "\n",
    "    plt.show()"
   ]
  },
  {
   "cell_type": "code",
   "execution_count": 19,
   "id": "ace594cf",
   "metadata": {},
   "outputs": [],
   "source": [
    "#plt.imshow(np.random.rand(1000,800))"
   ]
  },
  {
   "cell_type": "code",
   "execution_count": 20,
   "id": "b44077f1",
   "metadata": {},
   "outputs": [],
   "source": [
    "#plt.imshow(np.mean(score_seq,axis=0),interpolation='lanczos',origin='lower',vmin=1/6-2*np.std(score_seq),vmax=1/6+2*np.std(score_seq))\n"
   ]
  },
  {
   "cell_type": "code",
   "execution_count": 21,
   "id": "e77868b5",
   "metadata": {},
   "outputs": [
    {
     "name": "stdout",
     "output_type": "stream",
     "text": [
      "Reading /Volumes/T5_EVO/REPLAYSEQ/ICM/Data_ICM/2-epochs_items/mne-bids-pipeline/sub-01/meg/sub-01_task-reproduction-epo.fif ...\n",
      "    Found the data of interest:\n",
      "        t =    -200.00 ...     600.00 ms\n",
      "        0 CTF compensation matrices available\n",
      "Adding metadata with 58 columns\n",
      "3240 matching events found\n",
      "No baseline correction applied\n",
      "0 projection items activated\n"
     ]
    }
   ],
   "source": [
    "## I forgot to baseline\n",
    "epochs_items_baseline = mne.read_epochs(items_run_01_path, preload=True)"
   ]
  },
  {
   "cell_type": "code",
   "execution_count": 22,
   "id": "334459d8",
   "metadata": {
    "scrolled": true
   },
   "outputs": [
    {
     "name": "stdout",
     "output_type": "stream",
     "text": [
      "Applying baseline correction (mode: mean)\n"
     ]
    },
    {
     "data": {
      "text/html": [
       "<table class=\"table table-hover table-striped table-sm table-responsive small\">\n",
       "    <tr>\n",
       "        <th>Number of events</th>\n",
       "        <td>3240</td>\n",
       "    </tr>\n",
       "    <tr>\n",
       "        <th>Events</th>\n",
       "        \n",
       "        <td>SequenceID-C1RepEmbed/Position-1: 68<br/>SequenceID-C1RepEmbed/Position-2: 44<br/>SequenceID-C1RepEmbed/Position-3: 80<br/>SequenceID-C1RepEmbed/Position-4: 68<br/>SequenceID-C1RepEmbed/Position-5: 56<br/>SequenceID-C1RepEmbed/Position-6: 44<br/>SequenceID-C2RepEmbed/Position-1: 44<br/>SequenceID-C2RepEmbed/Position-2: 64<br/>SequenceID-C2RepEmbed/Position-3: 52<br/>SequenceID-C2RepEmbed/Position-4: 64<br/>SequenceID-C2RepEmbed/Position-5: 68<br/>SequenceID-C2RepEmbed/Position-6: 68<br/>SequenceID-CRep2/Position-1: 60<br/>SequenceID-CRep2/Position-2: 78<br/>SequenceID-CRep2/Position-3: 48<br/>SequenceID-CRep2/Position-4: 66<br/>SequenceID-CRep2/Position-5: 42<br/>SequenceID-CRep2/Position-6: 66<br/>SequenceID-CRep3/Position-1: 72<br/>SequenceID-CRep3/Position-2: 76<br/>SequenceID-CRep3/Position-3: 52<br/>SequenceID-CRep3/Position-4: 44<br/>SequenceID-CRep3/Position-5: 56<br/>SequenceID-CRep3/Position-6: 60<br/>SequenceID-CRep4/Position-1: 63<br/>SequenceID-CRep4/Position-2: 51<br/>SequenceID-CRep4/Position-3: 60<br/>SequenceID-CRep4/Position-4: 57<br/>SequenceID-CRep4/Position-5: 72<br/>SequenceID-CRep4/Position-6: 57<br/>SequenceID-Rep2/Position-1: 60<br/>SequenceID-Rep2/Position-2: 60<br/>SequenceID-Rep2/Position-3: 42<br/>SequenceID-Rep2/Position-4: 84<br/>SequenceID-Rep2/Position-5: 48<br/>SequenceID-Rep2/Position-6: 66<br/>SequenceID-Rep3/Position-1: 44<br/>SequenceID-Rep3/Position-2: 72<br/>SequenceID-Rep3/Position-3: 72<br/>SequenceID-Rep3/Position-4: 60<br/>SequenceID-Rep3/Position-5: 60<br/>SequenceID-Rep3/Position-6: 52<br/>SequenceID-Rep4/Position-1: 69<br/>SequenceID-Rep4/Position-2: 69<br/>SequenceID-Rep4/Position-3: 54<br/>SequenceID-Rep4/Position-4: 45<br/>SequenceID-Rep4/Position-5: 66<br/>SequenceID-Rep4/Position-6: 57<br/>SequenceID-RepEmbed/Position-1: 60<br/>SequenceID-RepEmbed/Position-2: 56<br/>SequenceID-RepEmbed/Position-3: 48<br/>SequenceID-RepEmbed/Position-4: 60<br/>SequenceID-RepEmbed/Position-5: 60<br/>SequenceID-RepEmbed/Position-6: 76</td>\n",
       "        \n",
       "    </tr>\n",
       "    <tr>\n",
       "        <th>Time range</th>\n",
       "        <td>-0.200 – 0.600 s</td>\n",
       "    </tr>\n",
       "    <tr>\n",
       "        <th>Baseline</th>\n",
       "        <td>-0.200 – 0.000 s</td>\n",
       "    </tr>\n",
       "</table>"
      ],
      "text/plain": [
       "<EpochsFIF |  3240 events (all good), -0.2 – 0.6 s, baseline -0.2 – 0 s, ~2.23 GB, data loaded, with metadata,\n",
       " 'SequenceID-CRep4/Position-1': 63\n",
       " 'SequenceID-CRep4/Position-2': 51\n",
       " 'SequenceID-CRep4/Position-3': 60\n",
       " 'SequenceID-CRep4/Position-4': 57\n",
       " 'SequenceID-CRep4/Position-5': 72\n",
       " 'SequenceID-CRep4/Position-6': 57\n",
       " 'SequenceID-RepEmbed/Position-1': 60\n",
       " 'SequenceID-RepEmbed/Position-2': 56\n",
       " 'SequenceID-RepEmbed/Position-3': 48\n",
       " 'SequenceID-RepEmbed/Position-4': 60\n",
       " and 44 more events ...>"
      ]
     },
     "execution_count": 22,
     "metadata": {},
     "output_type": "execute_result"
    }
   ],
   "source": [
    "epochs_items_baseline.apply_baseline((-0.2,0))"
   ]
  },
  {
   "cell_type": "code",
   "execution_count": 23,
   "id": "81cca44f",
   "metadata": {},
   "outputs": [
    {
     "name": "stdout",
     "output_type": "stream",
     "text": [
      "NOTE: pick_types() is a legacy function. New code should use inst.pick(...).\n"
     ]
    },
    {
     "data": {
      "application/vnd.jupyter.widget-view+json": {
       "model_id": "87c077982d024cd983166800f719be7e",
       "version_major": 2,
       "version_minor": 0
      },
      "text/plain": [
       "  0%|          | Fitting GeneralizingEstimator : 0/201 [00:00<?,       ?it/s]"
      ]
     },
     "metadata": {},
     "output_type": "display_data"
    },
    {
     "name": "stdout",
     "output_type": "stream",
     "text": [
      "Intel MKL WARNING: Support of Intel(R) Streaming SIMD Extensions 4.2 (Intel(R) SSE4.2) enabled only processors has been deprecated. Intel oneAPI Math Kernel Library 2025.0 will require Intel(R) Advanced Vector Extensions (Intel(R) AVX) instructions.\n",
      "Intel MKL WARNING: Support of Intel(R) Streaming SIMD Extensions 4.2 (Intel(R) SSE4.2) enabled only processors has been deprecated. Intel oneAPI Math Kernel Library 2025.0 will require Intel(R) Advanced Vector Extensions (Intel(R) AVX) instructions.\n",
      "Intel MKL WARNING: Support of Intel(R) Streaming SIMD Extensions 4.2 (Intel(R) SSE4.2) enabled only processors has been deprecated. Intel oneAPI Math Kernel Library 2025.0 will require Intel(R) Advanced Vector Extensions (Intel(R) AVX) instructions.\n",
      "Intel MKL WARNING: Support of Intel(R) Streaming SIMD Extensions 4.2 (Intel(R) SSE4.2) enabled only processors has been deprecated. Intel oneAPI Math Kernel Library 2025.0 will require Intel(R) Advanced Vector Extensions (Intel(R) AVX) instructions.\n",
      "Intel MKL WARNING: Support of Intel(R) Streaming SIMD Extensions 4.2 (Intel(R) SSE4.2) enabled only processors has been deprecated. Intel oneAPI Math Kernel Library 2025.0 will require Intel(R) Advanced Vector Extensions (Intel(R) AVX) instructions.\n",
      "Intel MKL WARNING: Support of Intel(R) Streaming SIMD Extensions 4.2 (Intel(R) SSE4.2) enabled only processors has been deprecated. Intel oneAPI Math Kernel Library 2025.0 will require Intel(R) Advanced Vector Extensions (Intel(R) AVX) instructions.\n",
      "Intel MKL WARNING: Support of Intel(R) Streaming SIMD Extensions 4.2 (Intel(R) SSE4.2) enabled only processors has been deprecated. Intel oneAPI Math Kernel Library 2025.0 will require Intel(R) Advanced Vector Extensions (Intel(R) AVX) instructions.\n",
      "Intel MKL WARNING: Support of Intel(R) Streaming SIMD Extensions 4.2 (Intel(R) SSE4.2) enabled only processors has been deprecated. Intel oneAPI Math Kernel Library 2025.0 will require Intel(R) Advanced Vector Extensions (Intel(R) AVX) instructions.\n",
      "Intel MKL WARNING: Support of Intel(R) Streaming SIMD Extensions 4.2 (Intel(R) SSE4.2) enabled only processors has been deprecated. Intel oneAPI Math Kernel Library 2025.0 will require Intel(R) Advanced Vector Extensions (Intel(R) AVX) instructions.\n",
      "Intel MKL WARNING: Support of Intel(R) Streaming SIMD Extensions 4.2 (Intel(R) SSE4.2) enabled only processors has been deprecated. Intel oneAPI Math Kernel Library 2025.0 will require Intel(R) Advanced Vector Extensions (Intel(R) AVX) instructions.\n",
      "Intel MKL WARNING: Support of Intel(R) Streaming SIMD Extensions 4.2 (Intel(R) SSE4.2) enabled only processors has been deprecated. Intel oneAPI Math Kernel Library 2025.0 will require Intel(R) Advanced Vector Extensions (Intel(R) AVX) instructions.\n",
      "Intel MKL WARNING: Support of Intel(R) Streaming SIMD Extensions 4.2 (Intel(R) SSE4.2) enabled only processors has been deprecated. Intel oneAPI Math Kernel Library 2025.0 will require Intel(R) Advanced Vector Extensions (Intel(R) AVX) instructions.\n",
      "Intel MKL WARNING: Support of Intel(R) Streaming SIMD Extensions 4.2 (Intel(R) SSE4.2) enabled only processors has been deprecated. Intel oneAPI Math Kernel Library 2025.0 will require Intel(R) Advanced Vector Extensions (Intel(R) AVX) instructions.\n",
      "Intel MKL WARNING: Support of Intel(R) Streaming SIMD Extensions 4.2 (Intel(R) SSE4.2) enabled only processors has been deprecated. Intel oneAPI Math Kernel Library 2025.0 will require Intel(R) Advanced Vector Extensions (Intel(R) AVX) instructions.\n",
      "Intel MKL WARNING: Support of Intel(R) Streaming SIMD Extensions 4.2 (Intel(R) SSE4.2) enabled only processors has been deprecated. Intel oneAPI Math Kernel Library 2025.0 will require Intel(R) Advanced Vector Extensions (Intel(R) AVX) instructions.\n",
      "Intel MKL WARNING: Support of Intel(R) Streaming SIMD Extensions 4.2 (Intel(R) SSE4.2) enabled only processors has been deprecated. Intel oneAPI Math Kernel Library 2025.0 will require Intel(R) Advanced Vector Extensions (Intel(R) AVX) instructions.\n",
      "Intel MKL WARNING: Support of Intel(R) Streaming SIMD Extensions 4.2 (Intel(R) SSE4.2) enabled only processors has been deprecated. Intel oneAPI Math Kernel Library 2025.0 will require Intel(R) Advanced Vector Extensions (Intel(R) AVX) instructions.\n",
      "Intel MKL WARNING: Support of Intel(R) Streaming SIMD Extensions 4.2 (Intel(R) SSE4.2) enabled only processors has been deprecated. Intel oneAPI Math Kernel Library 2025.0 will require Intel(R) Advanced Vector Extensions (Intel(R) AVX) instructions.\n"
     ]
    },
    {
     "data": {
      "application/vnd.jupyter.widget-view+json": {
       "model_id": "083698de0fda4976ac69becdb3863c81",
       "version_major": 2,
       "version_minor": 0
      },
      "text/plain": [
       "  0%|          | Scoring GeneralizingEstimator : 0/40401 [00:00<?,       ?it/s]"
      ]
     },
     "metadata": {},
     "output_type": "display_data"
    },
    {
     "data": {
      "application/vnd.jupyter.widget-view+json": {
       "model_id": "d9fdb36e196a4897a03206036b76a2db",
       "version_major": 2,
       "version_minor": 0
      },
      "text/plain": [
       "  0%|          | Fitting GeneralizingEstimator : 0/201 [00:00<?,       ?it/s]"
      ]
     },
     "metadata": {},
     "output_type": "display_data"
    },
    {
     "data": {
      "application/vnd.jupyter.widget-view+json": {
       "model_id": "d27e718868d8480c90af71b5bef12e72",
       "version_major": 2,
       "version_minor": 0
      },
      "text/plain": [
       "  0%|          | Scoring GeneralizingEstimator : 0/40401 [00:00<?,       ?it/s]"
      ]
     },
     "metadata": {},
     "output_type": "display_data"
    },
    {
     "data": {
      "application/vnd.jupyter.widget-view+json": {
       "model_id": "80500fbb891a4adf926fbf63d0b89bf9",
       "version_major": 2,
       "version_minor": 0
      },
      "text/plain": [
       "  0%|          | Fitting GeneralizingEstimator : 0/201 [00:00<?,       ?it/s]"
      ]
     },
     "metadata": {},
     "output_type": "display_data"
    },
    {
     "data": {
      "application/vnd.jupyter.widget-view+json": {
       "model_id": "24e8b75215dd40d9889752391813ecec",
       "version_major": 2,
       "version_minor": 0
      },
      "text/plain": [
       "  0%|          | Scoring GeneralizingEstimator : 0/40401 [00:00<?,       ?it/s]"
      ]
     },
     "metadata": {},
     "output_type": "display_data"
    },
    {
     "data": {
      "application/vnd.jupyter.widget-view+json": {
       "model_id": "0d17a28d350143f38d171480f643cf0b",
       "version_major": 2,
       "version_minor": 0
      },
      "text/plain": [
       "  0%|          | Fitting GeneralizingEstimator : 0/201 [00:00<?,       ?it/s]"
      ]
     },
     "metadata": {},
     "output_type": "display_data"
    },
    {
     "name": "stdout",
     "output_type": "stream",
     "text": [
      "Intel MKL WARNING: Support of Intel(R) Streaming SIMD Extensions 4.2 (Intel(R) SSE4.2) enabled only processors has been deprecated. Intel oneAPI Math Kernel Library 2025.0 will require Intel(R) Advanced Vector Extensions (Intel(R) AVX) instructions.\n",
      "Intel MKL WARNING: Support of Intel(R) Streaming SIMD Extensions 4.2 (Intel(R) SSE4.2) enabled only processors has been deprecated. Intel oneAPI Math Kernel Library 2025.0 will require Intel(R) Advanced Vector Extensions (Intel(R) AVX) instructions.\n",
      "Intel MKL WARNING: Support of Intel(R) Streaming SIMD Extensions 4.2 (Intel(R) SSE4.2) enabled only processors has been deprecated. Intel oneAPI Math Kernel Library 2025.0 will require Intel(R) Advanced Vector Extensions (Intel(R) AVX) instructions.\n",
      "Intel MKL WARNING: Support of Intel(R) Streaming SIMD Extensions 4.2 (Intel(R) SSE4.2) enabled only processors has been deprecated. Intel oneAPI Math Kernel Library 2025.0 will require Intel(R) Advanced Vector Extensions (Intel(R) AVX) instructions.\n"
     ]
    },
    {
     "data": {
      "application/vnd.jupyter.widget-view+json": {
       "model_id": "3370c163a340482a91ac12597d36d879",
       "version_major": 2,
       "version_minor": 0
      },
      "text/plain": [
       "  0%|          | Scoring GeneralizingEstimator : 0/40401 [00:00<?,       ?it/s]"
      ]
     },
     "metadata": {},
     "output_type": "display_data"
    },
    {
     "data": {
      "application/vnd.jupyter.widget-view+json": {
       "model_id": "84b8697acd334ad7a06e10b959f01094",
       "version_major": 2,
       "version_minor": 0
      },
      "text/plain": [
       "  0%|          | Fitting GeneralizingEstimator : 0/201 [00:00<?,       ?it/s]"
      ]
     },
     "metadata": {},
     "output_type": "display_data"
    },
    {
     "data": {
      "application/vnd.jupyter.widget-view+json": {
       "model_id": "5334322a28bd441484cb1b1a24716a92",
       "version_major": 2,
       "version_minor": 0
      },
      "text/plain": [
       "  0%|          | Scoring GeneralizingEstimator : 0/40401 [00:00<?,       ?it/s]"
      ]
     },
     "metadata": {},
     "output_type": "display_data"
    },
    {
     "name": "stdout",
     "output_type": "stream",
     "text": [
      "Intel MKL WARNING: Support of Intel(R) Streaming SIMD Extensions 4.2 (Intel(R) SSE4.2) enabled only processors has been deprecated. Intel oneAPI Math Kernel Library 2025.0 will require Intel(R) Advanced Vector Extensions (Intel(R) AVX) instructions.\n",
      "Intel MKL WARNING: Support of Intel(R) Streaming SIMD Extensions 4.2 (Intel(R) SSE4.2) enabled only processors has been deprecated. Intel oneAPI Math Kernel Library 2025.0 will require Intel(R) Advanced Vector Extensions (Intel(R) AVX) instructions.\n"
     ]
    }
   ],
   "source": [
    "score_seq_baseline=mne.decoding.cross_val_multiscore(dec_seq, epochs_items_baseline.pick_types(meg='mag')._data, y=all_items_shown)\n"
   ]
  },
  {
   "cell_type": "code",
   "execution_count": 41,
   "id": "92478395",
   "metadata": {},
   "outputs": [],
   "source": [
    "plt.imshow(np.mean(score_seq_baseline, axis=0), interpolation='lanczos', origin='lower', cmap=\"RdBu_r\", \n",
    "           vmin=1/6-2*np.std(score_seq_baseline), vmax=1/6+2*np.std(score_seq_baseline))\n",
    "plt.xlabel(\"Testing Time (s)\")\n",
    "plt.ylabel(\"Training Time (s)\")\n",
    "plt.title(\"Temporal generalization\")\n",
    "plt.axvline(0, color=\"k\")  # Changed vline to axvline\n",
    "plt.axhline(0, color=\"k\")  # Changed hline to axhline\n",
    "cbar = plt.colorbar(orientation='vertical')  # Set orientation to vertical\n",
    "cbar.set_label(\"score\")\n",
    "plt.savefig(decoder_path+'/sub01_decoder_position.png')\n",
    "plt.show()"
   ]
  },
  {
   "cell_type": "code",
   "execution_count": 35,
   "id": "20be118c",
   "metadata": {},
   "outputs": [
    {
     "data": {
      "text/plain": [
       "['/Users/et/Documents/UNICOG/MEG/2-MEGSEQ/saved_cross_val/MEG/sub_01/score_seq_baseline.pkl']"
      ]
     },
     "execution_count": 35,
     "metadata": {},
     "output_type": "execute_result"
    }
   ],
   "source": [
    "# Save the scores\n",
    "#joblib.dump(score_seq_baseline, '/Users/et/Documents/UNICOG/MEG/2-MEGSEQ/saved_cross_val/MEG/sub_01/score_seq_baseline.pkl')\n"
   ]
  },
  {
   "cell_type": "code",
   "execution_count": 8,
   "id": "49c11420",
   "metadata": {},
   "outputs": [],
   "source": [
    "# Load the scores\n",
    "\n",
    "score_seq_baseline = joblib.load('/Users/et/Documents/UNICOG/MEG/2-MEGSEQ/saved_cross_val/MEG/sub_01/score_seq_baseline.pkl')"
   ]
  },
  {
   "cell_type": "code",
   "execution_count": 10,
   "id": "f6f87dcb",
   "metadata": {},
   "outputs": [
    {
     "data": {
      "text/plain": [
       "<matplotlib.image.AxesImage at 0x1583db0b0>"
      ]
     },
     "execution_count": 10,
     "metadata": {},
     "output_type": "execute_result"
    }
   ],
   "source": [
    "plt.imshow(np.mean(score_seq_baseline, axis=0), interpolation='lanczos', origin='lower', cmap=\"RdBu_r\", \n",
    "           vmin=1/6-2*np.std(score_seq_baseline), vmax=1/6+2*np.std(score_seq_baseline))"
   ]
  }
 ],
 "metadata": {
  "kernelspec": {
   "display_name": "mne_python",
   "language": "python",
   "name": "mne_python"
  },
  "language_info": {
   "codemirror_mode": {
    "name": "ipython",
    "version": 3
   },
   "file_extension": ".py",
   "mimetype": "text/x-python",
   "name": "python",
   "nbconvert_exporter": "python",
   "pygments_lexer": "ipython3",
   "version": "3.12.0"
  }
 },
 "nbformat": 4,
 "nbformat_minor": 5
}
